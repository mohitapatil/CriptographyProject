{
 "cells": [
  {
   "cell_type": "code",
   "execution_count": 1,
   "metadata": {
    "colab": {
     "base_uri": "https://localhost:8080/"
    },
    "id": "z9C6xB7PP--e",
    "outputId": "99944732-0dab-4370-822d-df5c67592c44"
   },
   "outputs": [
    {
     "name": "stdout",
     "output_type": "stream",
     "text": [
      "Requirement already satisfied: pycryptodome in /usr/local/lib/python3.7/dist-packages (3.10.1)\n"
     ]
    }
   ],
   "source": [
    "pip install pycryptodome"
   ]
  },
  {
   "cell_type": "code",
   "execution_count": 2,
   "metadata": {
    "id": "AXEnvtiqkr4B"
   },
   "outputs": [],
   "source": [
    "from PIL import Image\n",
    "import numpy as np\n",
    "import os\n",
    "from matplotlib.pyplot import imshow\n",
    "# from google.colab.patches import cv2_imshow\n",
    "import matplotlib.pyplot as plt\n",
    "import random\n",
    "import cv2\n",
    "from math import log\n",
    "from tqdm import tqdm\n",
    "from PIL import Image\n",
    "import urllib.request\n",
    "import time\n",
    "# from google.colab.patches import cv2_imshow"
   ]
  },
  {
   "cell_type": "code",
   "execution_count": 3,
   "metadata": {
    "colab": {
     "base_uri": "https://localhost:8080/"
    },
    "id": "hB772G1DRm9A",
    "outputId": "67477ffc-639d-43bf-b512-77d0dc7c309d"
   },
   "outputs": [
    {
     "name": "stdout",
     "output_type": "stream",
     "text": [
      "1616492649.638439\n"
     ]
    }
   ],
   "source": [
    "from Crypto.PublicKey import RSA\n",
    "import time\n",
    "import sys\n",
    "import os\n",
    "\n",
    "start_time = time.time()\n",
    "print(start_time)"
   ]
  },
  {
   "cell_type": "code",
   "execution_count": 4,
   "metadata": {
    "colab": {
     "base_uri": "https://localhost:8080/"
    },
    "id": "Z07BM4v22iR8",
    "outputId": "1a9b24be-bcda-405d-8965-d01f93baa8a9"
   },
   "outputs": [
    {
     "name": "stdout",
     "output_type": "stream",
     "text": [
      "Public key:  (n=0xcca3951e25ab8db357ad6fd9b0f9abbdf5ac214d072117544cb4ac25bfc72060f8ef72758085f0bc4596a665e1cf3ff9e940954c87222c00a103a2a539264f3a0ac3e67cfdf5271771fdeecc285454692b3a77fedb27faf543610f2810a6b56f0123ddc7106a5cfbd58bcac33fa24747d04b4e02d762bf270855707fe49a055b, e=0x10001)\n",
      "Private key: (n=0xcca3951e25ab8db357ad6fd9b0f9abbdf5ac214d072117544cb4ac25bfc72060f8ef72758085f0bc4596a665e1cf3ff9e940954c87222c00a103a2a539264f3a0ac3e67cfdf5271771fdeecc285454692b3a77fedb27faf543610f2810a6b56f0123ddc7106a5cfbd58bcac33fa24747d04b4e02d762bf270855707fe49a055b, d=0xa6fce9c723083de6562ab2361b0371d0de33ab2cf71f5ab130b2d2332faea74e5a74d29aedd8de9c53d0de520f1516e8b11d4177a4620f342830163deb47c6a767d706d6aa44b491680422b99607aa8f38f9e55211f1f6ff337f7d031e82972d770b978fc60437e598296ea6d819ff249ab3f88118501d980b3ff000e14681c1)\n",
      "Public key2:  (n=0xd7f09dbae2fcfc782ffcd47b8c7526af9d81d73dd92df83feaf234dc7caf9a63f5827230fdc87e3dd9c735aebe37fe346913fb7516bb1565cc848ee5ba907f9042226e2ed96fe03c7d76b070ed78fc073c61b0b16fd0d3b29e1ab4347a43b4ac98095e0a12240cd52104a98b0872de0fe685bd674adbf763df98565090e44609, e=0x10001)\n",
      "Private key2: (n=0xd7f09dbae2fcfc782ffcd47b8c7526af9d81d73dd92df83feaf234dc7caf9a63f5827230fdc87e3dd9c735aebe37fe346913fb7516bb1565cc848ee5ba907f9042226e2ed96fe03c7d76b070ed78fc073c61b0b16fd0d3b29e1ab4347a43b4ac98095e0a12240cd52104a98b0872de0fe685bd674adbf763df98565090e44609, d=0x85761076663e47e81c789df6f23ba1ba5e95d62b42a477cf416d8b204eebd5773c50f034b9558638c1f5ae871ec7ca9427f192b3ae65d876bf6d9a480003b8e2941f0795ece561ffcad79afd8f93b19466ddc413ca10a7b9bf01f86e2f831e89bf2f9c20f3844d754829229442246d55c7a9549e5db79d64f887726201e58c25)\n"
     ]
    }
   ],
   "source": [
    "\n",
    "#sender Keys\n",
    "keyPair = RSA.generate(bits=1024)\n",
    "print(f\"Public key:  (n={hex(keyPair.n)}, e={hex(keyPair.e)})\")\n",
    "print(f\"Private key: (n={hex(keyPair.n)}, d={hex(keyPair.d)})\")\n",
    "\n",
    "#Reciver Keys\n",
    "keyPair2 = RSA.generate(bits=1024)\n",
    "print(f\"Public key2:  (n={hex(keyPair2.n)}, e={hex(keyPair2.e)})\")\n",
    "print(f\"Private key2: (n={hex(keyPair2.n)}, d={hex(keyPair2.d)})\")"
   ]
  },
  {
   "cell_type": "code",
   "execution_count": 5,
   "metadata": {
    "id": "mbb3esZv2qY7"
   },
   "outputs": [],
   "source": [
    "time_key_generation  = time.time() - start_time\n",
    "start_time = time.time()"
   ]
  },
  {
   "cell_type": "code",
   "execution_count": 6,
   "metadata": {
    "colab": {
     "base_uri": "https://localhost:8080/"
    },
    "id": "FbbJk95oSZ2w",
    "outputId": "98cb7b89-062e-476d-dae3-4d38df538233"
   },
   "outputs": [
    {
     "name": "stdout",
     "output_type": "stream",
     "text": [
      "Requirement already satisfied: bchlib in c:\\users\\vishwajeet\\anaconda3\\lib\\site-packages (0.14.0)\n",
      "Note: you may need to restart the kernel to use updated packages.\n"
     ]
    }
   ],
   "source": [
    "pip install bchlib"
   ]
  },
  {
   "cell_type": "code",
   "execution_count": 7,
   "metadata": {
    "id": "HDERh3i-QerX"
   },
   "outputs": [],
   "source": [
    "import bchlib\n",
    "import hashlib\n",
    "from PIL import Image\n",
    "import cv2\n",
    "import numpy\n",
    "from numpy import asarray\n",
    "from matplotlib.pyplot import imshow\n",
    "import matplotlib.pyplot as plt\n",
    "import imageio"
   ]
  },
  {
   "cell_type": "code",
   "execution_count": 9,
   "metadata": {
    "colab": {
     "base_uri": "https://localhost:8080/",
     "height": 286
    },
    "id": "U5eNdaceQeuM",
    "outputId": "06c375b3-625b-473e-8aff-68e73b07e8f2"
   },
   "outputs": [
    {
     "name": "stdout",
     "output_type": "stream",
     "text": [
      "Size of original image in bytes:  5706\n"
     ]
    },
    {
     "data": {
      "image/png": "[encoded data removed]",
      "text/plain": [
       "<Figure size 432x288 with 1 Axes>"
      ]
     },
     "metadata": {
      "needs_background": "light"
     },
     "output_type": "display_data"
    }
   ],
   "source": [
    "img = imageio.imread('1.png')\n",
    "imshow(img)\n",
    "# print (os.stat('0.png').st_size)\n",
    "print(\"Size of original image in bytes: \",os.path.getsize('1.png'))"
   ]
  },
  {
   "cell_type": "code",
   "execution_count": 10,
   "metadata": {
    "colab": {
     "base_uri": "https://localhost:8080/"
    },
    "id": "JyVXvnHlitwL",
    "outputId": "058c5be2-0f80-41ef-a1a0-459e8ea0b61b"
   },
   "outputs": [
    {
     "name": "stdout",
     "output_type": "stream",
     "text": [
      "1616492688.2239492\n"
     ]
    }
   ],
   "source": [
    "start_time = time.time()\n",
    "print(start_time)"
   ]
  },
  {
   "cell_type": "code",
   "execution_count": 11,
   "metadata": {
    "id": "HTvj7DdEQewd"
   },
   "outputs": [],
   "source": [
    "# create a bch object\n",
    "BCH_POLYNOMIAL = 8219\n",
    "BCH_BITS = 72\n",
    "bch = bchlib.BCH(BCH_POLYNOMIAL, BCH_BITS)"
   ]
  },
  {
   "cell_type": "code",
   "execution_count": 12,
   "metadata": {
    "colab": {
     "base_uri": "https://localhost:8080/"
    },
    "id": "BjuA62sRQezN",
    "outputId": "85e8e774-9bea-42f4-8f30-de696a8bbf1e"
   },
   "outputs": [
    {
     "name": "stdout",
     "output_type": "stream",
     "text": [
      "(225, 225, 4)\n",
      "354ca930b0a0070a73378cb71e298458\n"
     ]
    }
   ],
   "source": [
    "#data input\n",
    "a = asarray(img) #image data converted into a 3-D array\n",
    "print(a.shape)\n",
    "temp = bytearray(a)#3-d array converted into a byte array\n",
    "l = len(temp)\n",
    "final_corrupt = bytearray(0)\n",
    "final_data = bytearray(0)\n",
    "enc_sha = []\n",
    "cor_sha = []\n",
    "dec_sha = []\n",
    "\n",
    "\n",
    "h=hashlib.md5(temp)\n",
    "print (h.hexdigest())"
   ]
  },
  {
   "cell_type": "code",
   "execution_count": 13,
   "metadata": {
    "id": "biOOkxCPQe12"
   },
   "outputs": [],
   "source": [
    "#enter the MD5 hash value\n",
    "# input_corrupt = input(\"Enter corruption string: \")\n",
    "input_corrupt = '354ca930b0a0070a73378cb71e298458'"
   ]
  },
  {
   "cell_type": "code",
   "execution_count": 14,
   "metadata": {
    "colab": {
     "base_uri": "https://localhost:8080/"
    },
    "id": "litWQjsqQoNO",
    "outputId": "202ec2fe-97e4-4a54-be02-7dd4ce104d10"
   },
   "outputs": [
    {
     "name": "stdout",
     "output_type": "stream",
     "text": [
      "117\n",
      "sha1 original: e7d991ec778a887ee3bec9db230e66ab58e877f4\n",
      "sha1 corrupted: aa8586f7bc305f82e5954aac7f1b9014753cd006\n",
      "117\n",
      "sha1 original: e7d991ec778a887ee3bec9db230e66ab58e877f4\n",
      "sha1 corrupted: aa8586f7bc305f82e5954aac7f1b9014753cd006\n",
      "117\n",
      "sha1 original: e7d991ec778a887ee3bec9db230e66ab58e877f4\n",
      "sha1 corrupted: aa8586f7bc305f82e5954aac7f1b9014753cd006\n",
      "117\n",
      "sha1 original: e7d991ec778a887ee3bec9db230e66ab58e877f4\n",
      "sha1 corrupted: aa8586f7bc305f82e5954aac7f1b9014753cd006\n",
      "117\n",
      "sha1 original: e7d991ec778a887ee3bec9db230e66ab58e877f4\n",
      "sha1 corrupted: aa8586f7bc305f82e5954aac7f1b9014753cd006\n",
      "117\n",
      "sha1 original: e7d991ec778a887ee3bec9db230e66ab58e877f4\n",
      "sha1 corrupted: aa8586f7bc305f82e5954aac7f1b9014753cd006\n",
      "117\n",
      "sha1 original: e7d991ec778a887ee3bec9db230e66ab58e877f4\n",
      "sha1 corrupted: aa8586f7bc305f82e5954aac7f1b9014753cd006\n",
      "117\n",
      "sha1 original: e7d991ec778a887ee3bec9db230e66ab58e877f4\n",
      "sha1 corrupted: aa8586f7bc305f82e5954aac7f1b9014753cd006\n",
      "117\n",
      "sha1 original: e7d991ec778a887ee3bec9db230e66ab58e877f4\n",
      "sha1 corrupted: aa8586f7bc305f82e5954aac7f1b9014753cd006\n",
      "117\n",
      "sha1 original: e7d991ec778a887ee3bec9db230e66ab58e877f4\n",
      "sha1 corrupted: aa8586f7bc305f82e5954aac7f1b9014753cd006\n",
      "117\n",
      "sha1 original: e7d991ec778a887ee3bec9db230e66ab58e877f4\n",
      "sha1 corrupted: aa8586f7bc305f82e5954aac7f1b9014753cd006\n",
      "117\n",
      "sha1 original: e7d991ec778a887ee3bec9db230e66ab58e877f4\n",
      "sha1 corrupted: aa8586f7bc305f82e5954aac7f1b9014753cd006\n",
      "117\n",
      "sha1 original: e7d991ec778a887ee3bec9db230e66ab58e877f4\n",
      "sha1 corrupted: aa8586f7bc305f82e5954aac7f1b9014753cd006\n",
      "117\n",
      "sha1 original: e7d991ec778a887ee3bec9db230e66ab58e877f4\n",
      "sha1 corrupted: aa8586f7bc305f82e5954aac7f1b9014753cd006\n",
      "117\n",
      "sha1 original: e7d991ec778a887ee3bec9db230e66ab58e877f4\n",
      "sha1 corrupted: aa8586f7bc305f82e5954aac7f1b9014753cd006\n",
      "117\n",
      "sha1 original: e7d991ec778a887ee3bec9db230e66ab58e877f4\n",
      "sha1 corrupted: aa8586f7bc305f82e5954aac7f1b9014753cd006\n",
      "117\n",
      "sha1 original: e7d991ec778a887ee3bec9db230e66ab58e877f4\n",
      "sha1 corrupted: aa8586f7bc305f82e5954aac7f1b9014753cd006\n",
      "117\n",
      "sha1 original: e7d991ec778a887ee3bec9db230e66ab58e877f4\n",
      "sha1 corrupted: aa8586f7bc305f82e5954aac7f1b9014753cd006\n",
      "117\n",
      "sha1 original: e7d991ec778a887ee3bec9db230e66ab58e877f4\n",
      "sha1 corrupted: aa8586f7bc305f82e5954aac7f1b9014753cd006\n",
      "117\n",
      "sha1 original: e7d991ec778a887ee3bec9db230e66ab58e877f4\n",
      "sha1 corrupted: aa8586f7bc305f82e5954aac7f1b9014753cd006\n",
      "117\n",
      "sha1 original: e7d991ec778a887ee3bec9db230e66ab58e877f4\n",
      "sha1 corrupted: aa8586f7bc305f82e5954aac7f1b9014753cd006\n",
      "117\n",
      "sha1 original: e7d991ec778a887ee3bec9db230e66ab58e877f4\n",
      "sha1 corrupted: aa8586f7bc305f82e5954aac7f1b9014753cd006\n",
      "117\n",
      "sha1 original: e7d991ec778a887ee3bec9db230e66ab58e877f4\n",
      "sha1 corrupted: aa8586f7bc305f82e5954aac7f1b9014753cd006\n",
      "117\n",
      "sha1 original: e7d991ec778a887ee3bec9db230e66ab58e877f4\n",
      "sha1 corrupted: aa8586f7bc305f82e5954aac7f1b9014753cd006\n",
      "117\n",
      "sha1 original: e7d991ec778a887ee3bec9db230e66ab58e877f4\n",
      "sha1 corrupted: aa8586f7bc305f82e5954aac7f1b9014753cd006\n",
      "117\n",
      "sha1 original: 7924c2c630b3b2b59b2a6cba6182720b855417c3\n",
      "sha1 corrupted: d52ad82436269033badd3d408d465aba91933233\n",
      "117\n",
      "sha1 original: 67eaba2d53b9684d23029dfa31297133b598c0bf\n",
      "sha1 corrupted: 1e1f9433c66c7ae34fdf0a8787d7e3be8a72acc4\n",
      "117\n",
      "sha1 original: e05146cc1ce704ed1d68f6708afbd3beabced658\n",
      "sha1 corrupted: 33cffe8354c561ba68b342fd7b196f7305c141c2\n",
      "117\n",
      "sha1 original: cb8cf98ebbf2db78e509725f4f4fd38810b865e8\n",
      "sha1 corrupted: 642ff0febfe610fdc2d29a3992968cc5a0b0042a\n",
      "117\n",
      "sha1 original: c6181e841907dbbccfbaf316fb49100cb4f1a9cd\n",
      "sha1 corrupted: 4192565511e94c0ed0d5024f5229dc9e2b04ce68\n",
      "117\n",
      "sha1 original: 661a336ce74e871c4f6ec55e2513513ee9ccab94\n",
      "sha1 corrupted: 36c1b1751252aece4d078409b47b9def446f1bd2\n",
      "117\n",
      "sha1 original: 8898994c3439169eda53d572579c4c6f41cd8383\n",
      "sha1 corrupted: b9e96dead2622ca394aa4e62f853b0a9efc3a700\n",
      "117\n",
      "sha1 original: a12e36cb0cf3b3d9d9c68f119ae9948aa9ef37dc\n",
      "sha1 corrupted: d10620ed76aa4480933ab21c060c0530db02b0fe\n",
      "117\n",
      "sha1 original: fa954b2a0105962fe053235b2039d1db7569895e\n",
      "sha1 corrupted: cc9186e77568c80d0b9dc535011dc99dd225377c\n",
      "117\n",
      "sha1 original: ed55990f2933b83280f91c8b59bcda16f5dcc218\n",
      "sha1 corrupted: 57448933d50e9770f71f4afa819a7557df1d6d9a\n",
      "117\n",
      "sha1 original: 555da72119657302440b26c5d54c40b67db192af\n",
      "sha1 corrupted: 3a2ab5dc365399c3da10c4d93e27c29ef945c61b\n",
      "117\n",
      "sha1 original: f6203ddd1772dfa891dfbce15cfd42c42f38c34b\n",
      "sha1 corrupted: f85f251a2900f07b6f228c2882ccb68cabbb04c6\n",
      "117\n",
      "sha1 original: 67cd93ad505c08e7b9890bb1018d52154d452d65\n",
      "sha1 corrupted: 79f3c3d602683027bdc844effbfdcd0eddcd8f12\n",
      "117\n",
      "sha1 original: aeecd2ff598e3d6ea39dabd19a30b918a50a8521\n",
      "sha1 corrupted: 7d990117573634ce6dddd5bdecb2182ad5f4dab5\n",
      "117\n",
      "sha1 original: 3af81719f35eb52a4a283f2e8d881bc50291e49d\n",
      "sha1 corrupted: f1de8311ced35d4ba34bf80f4816f7672b30a3f2\n",
      "117\n",
      "sha1 original: 007197a9e9176a5e9f473529f662019cf9ee6b6d\n",
      "sha1 corrupted: de805962e4a584ed1babdf99ace655b1d92b397a\n",
      "117\n",
      "sha1 original: e999993a277238531c2bff9bf363d1fc509b7c71\n",
      "sha1 corrupted: 1b7f756b4e867a598b59683d7ecc816732d7271c\n",
      "117\n",
      "sha1 original: c8834247fc2308d4173b9327a4d992001f14e3bc\n",
      "sha1 corrupted: a8fbc2e0733c6fc207242143cb4ed6bf0674ce82\n",
      "117\n",
      "sha1 original: 6ff9d2f0754eaaae4ae7f571ce06e8d07ea08cf7\n",
      "sha1 corrupted: 802a728fa6dca703c6c6f6895ece8ca418aa2066\n",
      "117\n",
      "sha1 original: acbc56767db412719e2d18a06a300417ca01d721\n",
      "sha1 corrupted: 990b5f1e5dc8a2d5e5281615b8389c316189dec8\n",
      "117\n",
      "sha1 original: 71347df04805c7fef03e038355973703fd7a9146\n",
      "sha1 corrupted: 1a588084e68977b0ec74cbbe302f286272dd0b64\n",
      "117\n",
      "sha1 original: a6d355f80b238ece33cb2d3f9159845ef2860b01\n",
      "sha1 corrupted: c9111c259eec3e385b89f8c91fa1a5dd4db31de9\n",
      "117\n",
      "sha1 original: d9762d94ba69affa0261a40991af81f44b48a51a\n",
      "sha1 corrupted: 0510d1f6bd92de8e8bc3ff3b402d6c5adb1231f2\n",
      "117\n",
      "sha1 original: 1cfc10b4b3ac46f386b291d3a3bf3a2fd255d001\n",
      "sha1 corrupted: cf3efe1724636774f5f169a8a6b3fdec69456895\n",
      "117\n",
      "sha1 original: a01cf7a6c00e46aea236168fb1d2291117391a56\n",
      "sha1 corrupted: 49d9b7b4d9c4a1904b0f68ebe1a03bf31d7753ad\n",
      "117\n",
      "sha1 original: 92fbb8d9f1063cc9c8ccb267c5db9f5160f37407\n",
      "sha1 corrupted: be246cc57c8ec04fce3d27d4189b89f353306e3d\n",
      "117\n",
      "sha1 original: 44573a40cc9cbf6d98b55aeed58fa802975f1f66\n",
      "sha1 corrupted: b35746be588af0a1f592baf79715340985dd48fd\n",
      "117\n",
      "sha1 original: 9cec2a10c429300d9cc7288146123e01cdf68375\n",
      "sha1 corrupted: 3e684155550d2bb6e357b4ff6ed76e4509366e3a\n",
      "117\n",
      "sha1 original: 4430a02041b3118fffc6e84fcba1749eefc03d52\n",
      "sha1 corrupted: 3bb11a2238f90accd67392658a1572f344b7bbc5\n",
      "117\n",
      "sha1 original: 0769107262f84776b0be3220b9d2a1dad36a94a4\n",
      "sha1 corrupted: 204713dfb0d3ce4485b4c6e881b74dcd4c4aff7d\n",
      "117\n",
      "sha1 original: 7f58086669ddc851d5e64102118818cd8769bd63\n",
      "sha1 corrupted: 8bee3ca9181e876c038f93ceada460d0f796ab3c\n",
      "117\n",
      "sha1 original: 179635ae9846c568ce39813d57b0a50e4153f4eb\n",
      "sha1 corrupted: 6a07f4a926e7a1b863fd75c5b0977ca69953c2e9\n",
      "117\n",
      "sha1 original: d640041ab9e2cab4a9314b58547108a8407b5c96\n",
      "sha1 corrupted: 5c4f61452ecfec7e1d1bd9a991d341bb9ca140f7\n",
      "117\n",
      "sha1 original: 2eff3e7311d93dbc0ec1f38bfd2f497de7081a18\n",
      "sha1 corrupted: 801cb6b9d35d3b7f9279a5a3d42dbc1d74304387\n",
      "117\n",
      "sha1 original: e6597c02b6d2f3018a26cfe031080936d8cbc3dd\n",
      "sha1 corrupted: 3a168408ae3a0e6c190b0bc8b1f63f3aaac70197\n",
      "117\n",
      "sha1 original: 04c26f0a8cc2c0e2a5e8ce9e3dfb1efa0efb80da\n",
      "sha1 corrupted: 28678a338eda18972ad88881744f13e309e871d7\n",
      "117\n",
      "sha1 original: dfef6bc7b527b43abdfc3366b33ba9e935b878f2\n",
      "sha1 corrupted: 925b1f53ac1c04a831413809ee852b250ccfae76\n",
      "117\n",
      "sha1 original: 42e83e81032ef7aa0ebf1e5f18e12bf1b30a6fa0\n",
      "sha1 corrupted: 01b80a41693618a207f5b264ebdaf9e347b45f50\n",
      "117\n",
      "sha1 original: 57b889c1abc6a71f51cf880ec1fc5d3e4b33dba6\n",
      "sha1 corrupted: eddc0e6974c9c7e3f3a1895772eaacb5bf3efe1f\n",
      "117\n",
      "sha1 original: 13722a257990a42a2f9ebbcc6fca22aa7ad01198\n",
      "sha1 corrupted: 1526eae204a7512ebefa44e5d35d701cec9a3b77\n",
      "117\n",
      "sha1 original: 01a544be993265af6be3753f766f80d752c3e90c\n",
      "sha1 corrupted: af23c04267ea365ad1007d4d522c81c2c393bb01\n",
      "117\n",
      "sha1 original: 1347ddaa6b0720eefc14b525c59ebf24b88b7d9c\n",
      "sha1 corrupted: 23b2764db57a5ecb525c2d5bc81224b51029f442\n",
      "117\n",
      "sha1 original: 3ffd236fc2bd1c7709cb37110bd9b29cc5e0f061\n",
      "sha1 corrupted: 8b852cd0afa8f908371c93323c519b6f7222dae4\n",
      "117\n",
      "sha1 original: 0d26e066f1206e67ef1cbfd04638395a16c1f230\n",
      "sha1 corrupted: ecf42fee7d07ff21d4c4788301d51c0b1334f845\n",
      "117\n",
      "sha1 original: aacd271cba6bae9479c2d0dc4f5542deacca947b\n",
      "sha1 corrupted: 8fbdc1b81bee3d22f6cddd1c1d7bb58396a977e7\n"
     ]
    },
    {
     "name": "stdout",
     "output_type": "stream",
     "text": [
      "117\n",
      "sha1 original: 39e8152204ee48b6a8070d463f62521d7a72e2cc\n",
      "sha1 corrupted: 538f110a979ddac08e4d7172fc838fda0a7c3d11\n",
      "117\n",
      "sha1 original: 87c077cb488c7af8ce802205634c236496762752\n",
      "sha1 corrupted: 8d307c0441d2e92566d8df60e30fefd729bb4fab\n",
      "117\n",
      "sha1 original: 6e152c9c8abff7565c7245d8b2db982477578ce4\n",
      "sha1 corrupted: 7a3cbaaa93410e8848a3a29ab9d46d84a43d3032\n",
      "117\n",
      "sha1 original: 87055bc64e1f606ac2b6948ea3df6068a6b828b5\n",
      "sha1 corrupted: 8d55f3edd86b2fdb379d08fd05c105c4e29fb687\n",
      "117\n",
      "sha1 original: dc08b1ed7c2b6551f0d72115f7281b57c8bb2134\n",
      "sha1 corrupted: 15e1847755f1d92ec16e33b48013d2ad788fec2d\n",
      "117\n",
      "sha1 original: 009d6a1dc923449699516947ea5b33ac74e14bb1\n",
      "sha1 corrupted: 6d01c5c640b6a58e2949fe2257e1688a28186a68\n",
      "117\n",
      "sha1 original: 46a17cac3d903c1370ab2db2900bb3db7242914e\n",
      "sha1 corrupted: eb618bcf8030b539cfb82fe7600dcdbbec5d8428\n",
      "117\n",
      "sha1 original: 3bf2a82f7c3dacfccd520a0964e34c4432a8f03b\n",
      "sha1 corrupted: 1f026dfe458844092c2aedaf856e12df30994272\n",
      "117\n",
      "sha1 original: 7af7299f613f593b301ed05a5bf1b9e000ff213e\n",
      "sha1 corrupted: d9b9a9e6e91db2697d77ac8a546f0b57bead4259\n",
      "117\n",
      "sha1 original: 0c198216b595130c84aa2fbe515bee93a6e96e57\n",
      "sha1 corrupted: 06d36a2badde42b4ff48481b3aa0e82ba604919d\n",
      "117\n",
      "sha1 original: 894e0ac9adb0b126fff3882f52b9b09a44101803\n",
      "sha1 corrupted: 848c5576dd4847c810e326eb5b9838944150efcd\n",
      "117\n",
      "sha1 original: 6f7900b4a07355378e030d34b24f029dd01b69e2\n",
      "sha1 corrupted: 7063336f36077e10f78ca2f554ab0f268819c166\n",
      "117\n",
      "sha1 original: 39feeae2ddf79fc1aaa63c177bf9210c33744c94\n",
      "sha1 corrupted: 54d364fd06e6812bf84d0039031e0f0e0071f4d8\n",
      "117\n",
      "sha1 original: 38f47670b16a1c2e14bb03b8d0cd748cb421f929\n",
      "sha1 corrupted: c0327b1c440a4a49eabb2aeb6de7fdf37d272790\n",
      "117\n",
      "sha1 original: 84e402d6827102bed31b8ac6fca1d2725d5d4dbd\n",
      "sha1 corrupted: 1d47c3ddae2d32f922a7782a0170580251e3f89f\n",
      "117\n",
      "sha1 original: a9b5043fbc7e2cd5863a5f48bfe77afe7156b804\n",
      "sha1 corrupted: 014f1040751462dfe79a4b302dd3c1dff06e15e7\n",
      "117\n",
      "sha1 original: 87fbc018b33c3d28639135816dc0e5b997d2d378\n",
      "sha1 corrupted: 9df95ffe124e355e4e115f00cd05b00c40ed231a\n",
      "117\n",
      "sha1 original: a31e81df9adb4f37f9ebc98e17b1493b335c5604\n",
      "sha1 corrupted: 20d496889d0e52c0b2d9386538c0dbdb4cd0a14f\n",
      "117\n",
      "sha1 original: 0ccf8d2fd4efd7f9547ab2c8fb4bc1b3caa8bec5\n",
      "sha1 corrupted: a0efdb706770bda527710fd1bce84175fb7f7d1d\n",
      "117\n",
      "sha1 original: 6dff78f9711f588aea773ed51a6bde6d5888ea68\n",
      "sha1 corrupted: 0be7d01311f6b4203be0758a3d532f2801c45af5\n",
      "117\n",
      "sha1 original: 72a44366597e4c2ced3c0a53c36bdade01502ce2\n",
      "sha1 corrupted: 9226276c3a36d9e14958628e59414c504498d83b\n",
      "117\n",
      "sha1 original: b4ee823e72df7d227d1c9356967d4ba7937dce45\n",
      "sha1 corrupted: 5cf69c70b1f6e3b9c25b41b9b6ffb7dc6796042e\n",
      "117\n",
      "sha1 original: 7d795a98b208e67daaad301e98a8f92df61add30\n",
      "sha1 corrupted: 01aa60adf8703e771f55efd8b62e104ad4f19c82\n",
      "117\n",
      "sha1 original: 2cf54f679ba7e227f83e6aca8e8450e18ca7fdb8\n",
      "sha1 corrupted: 6f756594fc888180f59b5da1af82166107240359\n",
      "117\n",
      "sha1 original: 95c337fe12d31446ce3cc23396efdc4d450e7935\n",
      "sha1 corrupted: 3f9bbf77399b85d37b49455fbf7939aa332fa9a4\n",
      "117\n",
      "sha1 original: e209cf8b8a821d3473c8d4629476beab77eea18e\n",
      "sha1 corrupted: 8cfc110850d78d74fd5db6c07f06d1daad045993\n",
      "117\n",
      "sha1 original: 35b259644e70d9b330eeff82d04efbd79349642a\n",
      "sha1 corrupted: ea228c4b588e6f8c6be5b96386e523f8f5d6e8f7\n",
      "117\n",
      "sha1 original: 2a5ff04a126c9aa0b6744f95beb0c975fa406a0f\n",
      "sha1 corrupted: 6cdf2f2633080ea73de5f42578dd234cd8c63696\n",
      "117\n",
      "sha1 original: 47127e4de40ea9fa807101a66d2e8bcdc05f70a4\n",
      "sha1 corrupted: d94f29e713737be0c056225f3337d49244df2b77\n",
      "117\n",
      "sha1 original: d929010ff9cdff6d66910b04d30fcdf21fc63a2b\n",
      "sha1 corrupted: 0858a3e729f68af06fb4b76df55393f954dd692c\n",
      "117\n",
      "sha1 original: b82e2b68f6a5a02f98a1ee3654b67f88b7c62ff5\n",
      "sha1 corrupted: 386108669151825c902fe5a63ffac0866d7db5ed\n",
      "117\n",
      "sha1 original: 2ae9ed8a9693935b9a6be82d266654824606455a\n",
      "sha1 corrupted: 2de464838629b207dfa921532ab72fc81fd94bf0\n",
      "117\n",
      "sha1 original: d6b1631d64c782a3a06fe23802a76125c2b99353\n",
      "sha1 corrupted: 8544b4b6cf18448022d924aa13f5cc26d9ae3f44\n",
      "117\n",
      "sha1 original: e364a6ea6e210e3defc058d42d238e7ac502f613\n",
      "sha1 corrupted: 3e79bfa5790f0cebd556757637ad293e4fd11e29\n",
      "117\n",
      "sha1 original: aeb8a4babbbb6ac0d1b6cfdfcce3dc0a079159fa\n",
      "sha1 corrupted: e542ba7964953fa304e0c8d602d5a1a63303ba22\n",
      "117\n",
      "sha1 original: f00661a9684b3f71e4e282c94c4d76bbdce22914\n",
      "sha1 corrupted: 1e47504fc698df4b1f8c3dd4113d71cf5aefc017\n",
      "117\n",
      "sha1 original: e47b4285ba52d9f802c4e75062c266b20b0bf2cc\n",
      "sha1 corrupted: a9b4fe6a6af4a6db2240044ff84f219efb377a61\n",
      "117\n",
      "sha1 original: ac6b4fe21ad9e8c90ea950be5c5085c0b8c812ad\n",
      "sha1 corrupted: 1a82c0f8badc032b629a5467bb5b5486de2331a2\n",
      "117\n",
      "sha1 original: 733a848564ef1f77a9f08d80ed1869c3403f0c47\n",
      "sha1 corrupted: 45c3b0c2414c38b48497d5b91d6eb88a173e1350\n",
      "117\n",
      "sha1 original: 908b4d6ec0b346205b2bc81be26512c166832a25\n",
      "sha1 corrupted: d3f6a028f2ae02f8e3bdcd02fe0bfb0e01dba10d\n",
      "117\n",
      "sha1 original: 3716c18f55ed3038c877291609fe05f3958e686a\n",
      "sha1 corrupted: 8215cc81aa39dd4285a4eae210c82791bf005a50\n",
      "117\n",
      "sha1 original: 0c4680905cee03c14c18aac80338a2169ed1bdc7\n",
      "sha1 corrupted: 99b812a1157bd222cb1d067f2c213e08d56f1ab0\n",
      "117\n",
      "sha1 original: b26f1de63d9bceeaeb30aee108585eb8baf0dcb4\n",
      "sha1 corrupted: 2e074a7fb92295b7a911398d38543e46493f346a\n",
      "117\n",
      "sha1 original: 0364df36e8ebe97171fbef3b6aba2274253678a6\n",
      "sha1 corrupted: 3aab962339f1c9266464aba8c329be54791c1acb\n",
      "117\n",
      "sha1 original: de437386cc9746a74b1db86fa3dee2e2782430f1\n",
      "sha1 corrupted: 33f65ffea27d1fd7c3cd84d9cfafae0f8f4ddc6d\n",
      "117\n",
      "sha1 original: 8a0be01e25ccdb0f97924aaf76b3fbdaa36a0187\n",
      "sha1 corrupted: f9554471b5df5cc82b5d9df6a3faa01ef7affc9b\n",
      "117\n",
      "sha1 original: 05b88387924b8654659d20c518cf286a18e31c8d\n",
      "sha1 corrupted: 983d50396ab6b53d63ed217cfdc19ebe164811c8\n",
      "117\n",
      "sha1 original: c4d3b509ca4e39d0137f03556c5629687ef27e02\n",
      "sha1 corrupted: 1c734d72efe9970192bb6b2dd3084533171bae81\n",
      "117\n",
      "sha1 original: d711e104a985c62c94ab0d53d734e89ea790f97b\n",
      "sha1 corrupted: ec97150de45e4d550369c2b7ae3898270c507650\n",
      "117\n",
      "sha1 original: f6a05272d13c5cf06e29d3b34ef995e5194e341a\n",
      "sha1 corrupted: 052e213742693f32e207988f46f3167abcf1f610\n",
      "117\n",
      "sha1 original: 922335602134d04b331e904ebf76a56c8cd2bb4a\n",
      "sha1 corrupted: 78b2d37726e254faf31662a26d4a4a4e3057060f\n",
      "117\n",
      "sha1 original: 2ee3a251fac2e647f8a5f401bacb09e0e409f5e5\n",
      "sha1 corrupted: 822d356210d10225ce742a4a74a365275b8502a3\n",
      "117\n",
      "sha1 original: be888666c6672da830c291a2da81316120df68cc\n",
      "sha1 corrupted: e954260bbf934e83f6efa4343af69bc70ee849d1\n",
      "117\n",
      "sha1 original: d9580bf7230eb734e640dc112536d9f0ca9aeba7\n",
      "sha1 corrupted: 083a3bd66b933da4a4c83af27a9afdc1ccb7acc9\n",
      "117\n",
      "sha1 original: df3661ae7be707c668cb4a6de79e70f60acecfab\n",
      "sha1 corrupted: 94f71578f4eff836cfc6212f6d504c68cc8ac5df\n",
      "117\n",
      "sha1 original: 5727f3c1cad2859eb0908db87cd3a38d157761bf\n",
      "sha1 corrupted: bf97ffb813aeb74062429c25fbcb0229e42348ec\n",
      "117\n",
      "sha1 original: f756c3b762a4535789a615c9aefe73b2586a28b3\n",
      "sha1 corrupted: bcb2b51664154265ecdd590b315587bdc5673dff\n",
      "117\n",
      "sha1 original: 2b7c87e6e27993868fd1e846aa6291a80b14ad0d\n",
      "sha1 corrupted: 0cf050efdb615eb4473874edf666f52b5755bb1c\n",
      "117\n",
      "sha1 original: a01bbf253d10badcc8bebba348305ae004593e47\n",
      "sha1 corrupted: a132293f30194f81c13f4af78e856f2505a56fa8\n",
      "117\n",
      "sha1 original: 1db06ee5e45556c0efdca6ea58501e840a8e1e11\n",
      "sha1 corrupted: c1150aad6cdffd8b802814c423eb55880b4f9007\n",
      "117\n",
      "sha1 original: d55257cd902d7d7b10e9332ed1e8603cfe951480\n",
      "sha1 corrupted: e2e9ec5b2df1613d03789e55119534de8b1b73b4\n",
      "117\n",
      "sha1 original: 5d56e27493719c5e3a494d8ad53f79ab6138cd1d\n",
      "sha1 corrupted: d4483640a2f25241bddf05ef96e7d8190543a346\n",
      "117\n",
      "sha1 original: 4b86cdc3c9bd00d28e8c2651497ed2c3b65ef663\n",
      "sha1 corrupted: 291e9febf90de57d30cc613f4e39eb4f93d77048\n",
      "117\n",
      "sha1 original: 9e89da84b0cf01e5cbeb43505dacbc074b330c21\n",
      "sha1 corrupted: f66ac42f1f4c468d7480775ecee408e5036bc8dd\n",
      "117\n",
      "sha1 original: c626dc75e26f9082e7f3832ed144f755b8bc04ce\n",
      "sha1 corrupted: 4277fa84e092d356fb60a95d56d4e19440e63069\n",
      "117\n",
      "sha1 original: 6341dc467f278554446bb82abea4bd43695016ed\n",
      "sha1 corrupted: d6d356efa21eeff33e513b544b57c5af5f819281\n",
      "117\n",
      "sha1 original: c3137bc7c188833805bb6955bc5b729a6ab12445\n",
      "sha1 corrupted: bb7faeae6e3515edb53f7a0c606a23555ac4e322\n",
      "117\n",
      "sha1 original: 9f5343b9888bef214bcfb5f9675611516dc2eef2\n",
      "sha1 corrupted: 641ff8369d77c8eeaea2d35016336b6b03734e13\n",
      "117\n",
      "sha1 original: e7ee75c5d4e109fd3bd3492a809ace7332bc6a05\n",
      "sha1 corrupted: 286e23b273c454ccba7db39abb63a14776ab1ff8\n",
      "117\n",
      "sha1 original: 3dcc05ef547ef3e0f132ccc46c50566a0192944d\n",
      "sha1 corrupted: e9f081bedff83fe15a6b92d3ffef48f5fd4eb1db\n"
     ]
    },
    {
     "name": "stdout",
     "output_type": "stream",
     "text": [
      "117\n",
      "sha1 original: f615d2033a36193b3fb5aa86ff8fa7e3bf97c483\n",
      "sha1 corrupted: d4d32fc44839f10a84de193c86394e40bb9a5e47\n",
      "117\n",
      "sha1 original: 9b2e6d8ed2184c7c750be9f178c6aa2253935ff7\n",
      "sha1 corrupted: 1ba30dd4ac7b727e7dbdb6d9f602d4338310754b\n",
      "117\n",
      "sha1 original: 38c9f92660a0efcc52a1460b060e764f473de27b\n",
      "sha1 corrupted: 87433493c0562d36f389f1f40c3ba39b9a311a88\n",
      "117\n",
      "sha1 original: 8f3bc37d20924d63ec3c66e1f07c54e4442f82db\n",
      "sha1 corrupted: db6405c19827d3101671fc990690295341a27192\n",
      "117\n",
      "sha1 original: 34d6ae841c39f9067e0673394b2bdba83bad6007\n",
      "sha1 corrupted: 699be279e26912251990953b15234bf9bf8ad979\n",
      "117\n",
      "sha1 original: 61b6d4592d6c02b72cd784b4748a19e1a90749b2\n",
      "sha1 corrupted: 7d96e324043dd22b07435d297ce9e2bc2ee6a4d2\n",
      "117\n",
      "sha1 original: cac8f11fa70252ebb524d314c7fea302580ba54b\n",
      "sha1 corrupted: 086946706dc8b3d124f2a09cc33ca9c13c717fdb\n",
      "117\n",
      "sha1 original: 4ef5d25752c9c293963d060ecb3230b91aef7a01\n",
      "sha1 corrupted: 7fb43d5e91b7cfacf7423dd6d9001f4d573663b6\n",
      "117\n",
      "sha1 original: 11f62fb1b522023ab273db4fdf63ae0046c472c3\n",
      "sha1 corrupted: 65ef05c623ea092edc89b5f782720083e0e8371f\n",
      "117\n",
      "sha1 original: 7eb0c967428158d732fa205060e462521a9fa717\n",
      "sha1 corrupted: b0a76da0f049de15c0cd13a8e5fcacaf44f91f17\n",
      "117\n",
      "sha1 original: ec2269a39dcd3a0264b0cc746853d5f9d6cbc5e0\n",
      "sha1 corrupted: b34aebc8893b02014744d360e81dcaf7eb21c7b6\n",
      "117\n",
      "sha1 original: 44c2276435a7398d9650683562fde8b95a20f30a\n",
      "sha1 corrupted: ab6b647932c15e03b18e2f2afffeb114104f027e\n",
      "117\n",
      "sha1 original: 4c5181f316ddda2937619d1eab2ade8df66dc6e3\n",
      "sha1 corrupted: 788cc73868638c998e9823be9c0f6abaae032598\n",
      "117\n",
      "sha1 original: 97075a5ce117dec9436239372243c4bda4159542\n",
      "sha1 corrupted: 0c90afd628025fe3afa0f2c77836f82b97499e86\n",
      "117\n",
      "sha1 original: 5729b17a311e0be2bee098f9a8bab658ba1c4be4\n",
      "sha1 corrupted: 848d0568db8e937f8acd1ad59db6148c7fcbda76\n",
      "117\n",
      "sha1 original: ed0d59f884f51d967dae54b567ef528328ebc91e\n",
      "sha1 corrupted: d59c5b8ca6094741719c3ed8f9f6c0c64ab0d358\n",
      "117\n",
      "sha1 original: f00a6e4e3cca8e161a45bf7dd5f58e0b2087fb44\n",
      "sha1 corrupted: c8c45b0c2730ed1cb884af6e8ff9da4587b9fc98\n",
      "117\n",
      "sha1 original: 2af5ec1cf21b0701a672e1869fcd1a2f7dfff969\n",
      "sha1 corrupted: c56c2e74deb490091178a4560302f7da8f6f8926\n",
      "117\n",
      "sha1 original: c433b0c95381b47dfc083ba39f4a8eed76a27f9a\n",
      "sha1 corrupted: 4ca9937e9f4cb40897c0a00874a620a736baaee3\n",
      "117\n",
      "sha1 original: 3a8df294a6b5858dde872c81c366e10f5c88a1c9\n",
      "sha1 corrupted: 9dc73fceaacafa5f711c485b7d81c07ad3876339\n",
      "117\n",
      "sha1 original: c9cc3dc328022a35963bcabae4ea1bc2a7957d3a\n",
      "sha1 corrupted: 5c04e94e347973dadd7f7187c3f88ee37ab71373\n",
      "117\n",
      "sha1 original: 0d7fac0ce4ea05491269a70389c119cfa1e3aaee\n",
      "sha1 corrupted: 32a227c54153015d52bc3fe060fc71e9ba1aa6f7\n",
      "117\n",
      "sha1 original: cb251ea17d010a827466eba63f4b362c849487a5\n",
      "sha1 corrupted: 2448c452cc3d3a28649cc5f4de6dec0cb7e1d10e\n",
      "117\n",
      "sha1 original: d6acc595e6887f6b3d559b8d32c86b3c7db5b0fb\n",
      "sha1 corrupted: 016ab8a6621a86bb5dcbcd36ff72d182db50b867\n",
      "117\n",
      "sha1 original: 636c9d1060f0489f063c685b072430180f41a140\n",
      "sha1 corrupted: 51ac55fdbe7a45928e051a69798454dc2c849840\n",
      "117\n",
      "sha1 original: d3a5820d4abcc079aafba15ec84554c79bb51c24\n",
      "sha1 corrupted: 5818b0d4427dbee20399390952988d506869d69a\n",
      "117\n",
      "sha1 original: f1ee58b211607fdb3d8f6ad24ea19578f4dd7156\n",
      "sha1 corrupted: 2b146aa1db7ee3670601152f47e48d8bfc2ea510\n",
      "117\n",
      "sha1 original: 86b578c28f647f2b98ce4c50c37cd633389bdde7\n",
      "sha1 corrupted: 187d5f4116fd50f88fa27e9f843f46c08afe22a6\n",
      "117\n",
      "sha1 original: aed2a7e1a64a3164f0ec82795696e9a79712bf1c\n",
      "sha1 corrupted: 0259e2c337c9c71e219641077682ecec946cad4b\n",
      "117\n",
      "sha1 original: 2b3019e4a14eb4df21c0075860ebfdd46d3f5a87\n",
      "sha1 corrupted: ef80db72beccc53283b05de57b47692ca4491e85\n",
      "117\n",
      "sha1 original: 326d67fe7cbf2a44782c0fa17018f111417ea088\n",
      "sha1 corrupted: 9f0a9dbe9a6bf5676d671119754a471c6e2d4b04\n",
      "117\n",
      "sha1 original: 496a6655663059f7a12da3c9a7751a9f177977ed\n",
      "sha1 corrupted: 8bf6080fc8a9327aa45e9e56f2846d673b8e5412\n",
      "117\n",
      "sha1 original: 46cd415e3c9a27f44a9344a18f666c5d7e24db1d\n",
      "sha1 corrupted: 1e950efce80b7d4d50986fcb7554395dd5b16b27\n",
      "117\n",
      "sha1 original: 25695e90abf0fa4cc9ac2e80d474d45c0d1cd402\n",
      "sha1 corrupted: 0ea06956911bdd210eacc2332644e1a08c228f8b\n",
      "117\n",
      "sha1 original: 4218b612a083f6dea02dc16e110faf5b1aee8eeb\n",
      "sha1 corrupted: c583d63f2635fa98ab3ae5e7ea178e0737f36202\n",
      "117\n",
      "sha1 original: 9b6858c5f40ff84488296980639b33469924fb33\n",
      "sha1 corrupted: 49d450c7a39a61d8001f78e73d627bb8f7652f18\n",
      "117\n",
      "sha1 original: 4406ad0792d55202d5fd9e12bf5645fdfd0d64f4\n",
      "sha1 corrupted: 10422f5818be93c6d893266b1ff1151ea80b6bb5\n",
      "117\n",
      "sha1 original: f583de7d8f4ef70c9d0ac9d046768de55d2e89fd\n",
      "sha1 corrupted: 3879b7ad08510762d2252632b140f326d1cc4daa\n",
      "117\n",
      "sha1 original: 2a673733185cd1800aecfe02b1ecc9d41b594d5a\n",
      "sha1 corrupted: 8bb0eb0bb41574168f09c9779040c6bc7cc112e6\n",
      "117\n",
      "sha1 original: e659ea2d7b27a43cae5fdeaba5077488dd057157\n",
      "sha1 corrupted: d3cec4dbc57ef64a1353a8f32b573c4a5d27d391\n",
      "117\n",
      "sha1 original: a8998ad2dc39e9458ae0e5852858338a6d0298f2\n",
      "sha1 corrupted: 78243cf32c358d6ce6d7ebe00a9093f09d8e4850\n",
      "117\n",
      "sha1 original: e73455d2665dc77ad7b7c783f06bd931e4250a71\n",
      "sha1 corrupted: 529e44eeb84af2471f2840dded24ad7e9f3d6e82\n",
      "117\n",
      "sha1 original: 9d4af49d3dd294845ba9ccaff5a18e95419540d2\n",
      "sha1 corrupted: 0c1d185a2ddadfbf078d50e0a0eb6c28cf6ff39e\n",
      "117\n",
      "sha1 original: d38d13a6800ada64ab0546995c89b8a7f011d052\n",
      "sha1 corrupted: 8a81ef39c287369b318cdd512435c46a628feab1\n",
      "117\n",
      "sha1 original: 66d3a4a2593f1b31bbd56fc294b5d11f178c00a1\n",
      "sha1 corrupted: 3550b00856de54297bffcf3dea95660cd998f029\n",
      "117\n",
      "sha1 original: ceb1195a481c6b36568b1299cae0e7788e0473c5\n",
      "sha1 corrupted: 76991ea77baa69c5f53c583e2fe43f06084c266c\n",
      "117\n",
      "sha1 original: 51866ab7329a8515b1c8b56ebb72e632f18f11a0\n",
      "sha1 corrupted: 5a8d73bec36129bcf39de7268bf021ce450a0877\n",
      "117\n",
      "sha1 original: 076cefe496673617f57477be8afac7535dab5dd0\n",
      "sha1 corrupted: 21da4dc5bd28e2498c4042d46325b1c708a5022c\n",
      "117\n",
      "sha1 original: 93ed9350d68d781968707380cd7546bbc32a2525\n",
      "sha1 corrupted: 336ed0467d922bdf8355621cc4f454fc4fbed427\n",
      "117\n",
      "sha1 original: e797713c1c7f3447aee9ea6ae506086ec73135a5\n",
      "sha1 corrupted: 2dd7c5365bb7bf8a6ea77639d3a83d0182b37476\n",
      "117\n",
      "sha1 original: ff5eb65d42c58d2acf5bc6efeae8632e0f48144c\n",
      "sha1 corrupted: cfcfd8e46af3a285c94d01f6a5af22b2f79e69a4\n",
      "117\n",
      "sha1 original: 5d1fe1c5b426f48920bee6de4ffb223491474cc6\n",
      "sha1 corrupted: 4c025b5929ace893bad5844587b2a803c858ced9\n",
      "117\n",
      "sha1 original: b52f1311745a5819f37a7724240bea4a2d4288ea\n",
      "sha1 corrupted: c99dcb8c8141a920e3757ae556eef2626a33d459\n",
      "117\n",
      "sha1 original: c0a384848600866d5edc124ee0a00a62dcf5aeeb\n",
      "sha1 corrupted: 2113f17c694be9e619435e2719b98f38dd1ac888\n",
      "117\n",
      "sha1 original: 4252219c52eba8c6e59aae459cf4538b5ad56c8b\n",
      "sha1 corrupted: 58fab7fe4005d96891a3430d881f7f7808f2fad9\n",
      "117\n",
      "sha1 original: 8c00434a9f1ebcd03a9c8c7b11b65d76585b429e\n",
      "sha1 corrupted: 66772214ad5bd584581afda917dd4550b07f09f1\n",
      "117\n",
      "sha1 original: b4a65ec0046f55a18caf6e39a388c71ab319d1f9\n",
      "sha1 corrupted: b5d23abc5d728e3266bb85dedef8630b8f2a21ce\n",
      "117\n",
      "sha1 original: 67f23bc6763a0bf0923e87c0b4416d0e1b0d9144\n",
      "sha1 corrupted: c7f3035be5eb28710ae4751aa453ee13d4790c82\n",
      "117\n",
      "sha1 original: 706e1df8667274b217d4bfee5617486c370e73ad\n",
      "sha1 corrupted: f1e9b478d8264aa46bfb05b27a04da97adb5525c\n",
      "117\n",
      "sha1 original: 8cf51ec6c0dc780a471c922a7fc23554465371f7\n",
      "sha1 corrupted: 6806180cfff3db314c39e75f9095cace0aee7b8d\n",
      "117\n",
      "sha1 original: be70f9fec1de8577156bf4e81dd181b26b6f0ec7\n",
      "sha1 corrupted: c3f23844e87aa5d5974d2d40094aab7eb4321392\n",
      "117\n",
      "sha1 original: 422acbe78181bb4c6cdac65ba3231b74c6c73722\n",
      "sha1 corrupted: 677c981731559ca48a12ce9ca930b5d14088326e\n",
      "117\n",
      "sha1 original: c68c18a2b1a7e1b56cf544b4c7ae0107d508b065\n",
      "sha1 corrupted: 021c879928867bc92d0af63cf52d3742c268534c\n",
      "117\n",
      "sha1 original: 7614c2ec79c14a7d414c269841796a102a485915\n",
      "sha1 corrupted: 3ae16f82a2e5ae1ff06b59a05cfa90e659477a00\n",
      "117\n",
      "sha1 original: 216b89e12183b0bab266b910fdff7785f0bfc9c8\n",
      "sha1 corrupted: 53b2a5dbfb2595f1aa29f512ba36922aaa3b2780\n",
      "117\n",
      "sha1 original: e7d991ec778a887ee3bec9db230e66ab58e877f4\n",
      "sha1 corrupted: aa8586f7bc305f82e5954aac7f1b9014753cd006\n",
      "117\n",
      "sha1 original: e7d991ec778a887ee3bec9db230e66ab58e877f4\n",
      "sha1 corrupted: aa8586f7bc305f82e5954aac7f1b9014753cd006\n",
      "117\n",
      "sha1 original: e7d991ec778a887ee3bec9db230e66ab58e877f4\n",
      "sha1 corrupted: aa8586f7bc305f82e5954aac7f1b9014753cd006\n",
      "117\n",
      "sha1 original: e7d991ec778a887ee3bec9db230e66ab58e877f4\n",
      "sha1 corrupted: aa8586f7bc305f82e5954aac7f1b9014753cd006\n",
      "117\n",
      "sha1 original: e7d991ec778a887ee3bec9db230e66ab58e877f4\n",
      "sha1 corrupted: aa8586f7bc305f82e5954aac7f1b9014753cd006\n"
     ]
    },
    {
     "name": "stdout",
     "output_type": "stream",
     "text": [
      "117\n",
      "sha1 original: e7d991ec778a887ee3bec9db230e66ab58e877f4\n",
      "sha1 corrupted: aa8586f7bc305f82e5954aac7f1b9014753cd006\n",
      "117\n",
      "sha1 original: e7d991ec778a887ee3bec9db230e66ab58e877f4\n",
      "sha1 corrupted: aa8586f7bc305f82e5954aac7f1b9014753cd006\n",
      "117\n",
      "sha1 original: e7d991ec778a887ee3bec9db230e66ab58e877f4\n",
      "sha1 corrupted: aa8586f7bc305f82e5954aac7f1b9014753cd006\n",
      "117\n",
      "sha1 original: e7d991ec778a887ee3bec9db230e66ab58e877f4\n",
      "sha1 corrupted: aa8586f7bc305f82e5954aac7f1b9014753cd006\n",
      "117\n",
      "sha1 original: e7d991ec778a887ee3bec9db230e66ab58e877f4\n",
      "sha1 corrupted: aa8586f7bc305f82e5954aac7f1b9014753cd006\n",
      "117\n",
      "sha1 original: e7d991ec778a887ee3bec9db230e66ab58e877f4\n",
      "sha1 corrupted: aa8586f7bc305f82e5954aac7f1b9014753cd006\n",
      "117\n",
      "sha1 original: e7d991ec778a887ee3bec9db230e66ab58e877f4\n",
      "sha1 corrupted: aa8586f7bc305f82e5954aac7f1b9014753cd006\n",
      "117\n",
      "sha1 original: e7d991ec778a887ee3bec9db230e66ab58e877f4\n",
      "sha1 corrupted: aa8586f7bc305f82e5954aac7f1b9014753cd006\n",
      "117\n",
      "sha1 original: e7d991ec778a887ee3bec9db230e66ab58e877f4\n",
      "sha1 corrupted: aa8586f7bc305f82e5954aac7f1b9014753cd006\n",
      "117\n",
      "sha1 original: e7d991ec778a887ee3bec9db230e66ab58e877f4\n",
      "sha1 corrupted: aa8586f7bc305f82e5954aac7f1b9014753cd006\n",
      "117\n",
      "sha1 original: e7d991ec778a887ee3bec9db230e66ab58e877f4\n",
      "sha1 corrupted: aa8586f7bc305f82e5954aac7f1b9014753cd006\n",
      "117\n",
      "sha1 original: e7d991ec778a887ee3bec9db230e66ab58e877f4\n",
      "sha1 corrupted: aa8586f7bc305f82e5954aac7f1b9014753cd006\n",
      "117\n",
      "sha1 original: e7d991ec778a887ee3bec9db230e66ab58e877f4\n",
      "sha1 corrupted: aa8586f7bc305f82e5954aac7f1b9014753cd006\n",
      "117\n",
      "sha1 original: e7d991ec778a887ee3bec9db230e66ab58e877f4\n",
      "sha1 corrupted: aa8586f7bc305f82e5954aac7f1b9014753cd006\n",
      "117\n",
      "sha1 original: e7d991ec778a887ee3bec9db230e66ab58e877f4\n",
      "sha1 corrupted: aa8586f7bc305f82e5954aac7f1b9014753cd006\n"
     ]
    }
   ],
   "source": [
    "#image encryption starts\n",
    "for n in range(0, 202500, 900):#loading a 900 length block of the bytearray\n",
    "    data = bytearray(0)\n",
    "    corrupt2 =''\n",
    "    \n",
    "    for i in range(n, n + 900):\n",
    "        data.append(temp[i]);\n",
    "    \n",
    "    ###########Create Oct corrupt\n",
    "    corrupt = bytearray(input_corrupt, 'UTF-8')\n",
    "    for i in range(len(corrupt)):\n",
    "        s = oct(corrupt[i])[2:]\n",
    "        corrupt2 = corrupt2 +s\n",
    "\n",
    "    corrupt = corrupt2\n",
    "#     print(corrupt)\n",
    "    ######################################\n",
    "    \n",
    "    ######### encode and make a \"packet\"\n",
    "    ecc = bch.encode(data)\n",
    "    print(len(ecc))\n",
    "    packet = data + ecc\n",
    "    #####################################\n",
    "        \n",
    "    ##### YE KUCH KAAM KA NAHI HE\n",
    "    # print hash of packet\n",
    "    sha1_initial = hashlib.sha1(packet)\n",
    "    print('sha1 original: %s' % (sha1_initial.hexdigest(),))\n",
    "    enc_sha.append(sha1_initial.hexdigest())# saving the initial encoded packet \n",
    "    #####################################\n",
    "    \n",
    "    # make BCH_BITS errors\n",
    "    for i in range(BCH_BITS):\n",
    "        bytenum =i\n",
    "        bitnum = int(corrupt[i])\n",
    "#         print(1 << bitnum)\n",
    "        packet[bytenum] ^= (1 << bitnum)\n",
    "#         print(packet[bytenum])\n",
    "    \n",
    "    #appending corrupted data of each block\n",
    "    for i in range(len(packet)):\n",
    "        final_corrupt.append(packet[i])\n",
    "    \n",
    "   # print(len(packet))\n",
    "    # print hash of packet\n",
    "    sha1_corrupt = hashlib.sha1(packet)\n",
    "    print('sha1 corrupted: %s' % (sha1_corrupt.hexdigest(),))\n",
    "    cor_sha.append(sha1_corrupt.hexdigest())# saving the corrupted packet into an array"
   ]
  },
  {
   "cell_type": "code",
   "execution_count": 15,
   "metadata": {
    "id": "ILAZp5Kc3Gjr"
   },
   "outputs": [],
   "source": [
    "time_enc_bch  = time.time() - start_time\n",
    "start_time = time.time()"
   ]
  },
  {
   "cell_type": "code",
   "execution_count": 16,
   "metadata": {
    "colab": {
     "base_uri": "https://localhost:8080/"
    },
    "id": "Ey2IRcCCQoQG",
    "outputId": "e044b82c-89da-463b-f1d5-0a5377f162ae"
   },
   "outputs": [
    {
     "name": "stdout",
     "output_type": "stream",
     "text": [
      "Signature: 0x3297a0293f9d845a79ae0bcb8669be5fef7d7acff2d559472268312a53b788658838a00c2f6ad23b9cb4a5900767278b05867aac8e2e9f2890b75f144ea415b867eee02472a088c385afaa08c6e9cae0407c02efffc11d0f31fc063635f3b13c10cc6be0250a009c7f90c8926fd73ece51bd65eecef9a54114c2fd4b134d0586\n"
     ]
    }
   ],
   "source": [
    "# RSA sign the message\n",
    "\n",
    "hash= 0x354ca930b0a0070a73378cb71e298458\n",
    "signature = pow(hash, keyPair.d, keyPair.n)\n",
    "print(\"Signature:\", hex(signature))"
   ]
  },
  {
   "cell_type": "code",
   "execution_count": 17,
   "metadata": {
    "colab": {
     "base_uri": "https://localhost:8080/"
    },
    "id": "ff9hiZ2yQoS5",
    "outputId": "9528bbd6-e7f6-4f03-cbb0-51cf6ad662b8"
   },
   "outputs": [
    {
     "name": "stdout",
     "output_type": "stream",
     "text": [
      "Signature : 23543828370747076716657815238795447081261003590652862295357452793433246598702225981535311754296762826416859289723849636244314017705634770719918849647302447585206079336839785744439007504816549468251036422040656793782202103560530321927799175830781216205438254334844395936073145701294524588927076494745175940697\n"
     ]
    }
   ],
   "source": [
    "#signature pow public key of Sender\n",
    "finalMessage = pow(signature, keyPair2.e, keyPair2.n)\n",
    "print(\"Signature :\",finalMessage)"
   ]
  },
  {
   "cell_type": "code",
   "execution_count": null,
   "metadata": {
    "id": "e_-GlfIWi1eq"
   },
   "outputs": [],
   "source": []
  },
  {
   "cell_type": "code",
   "execution_count": 18,
   "metadata": {
    "colab": {
     "base_uri": "https://localhost:8080/"
    },
    "id": "2WPD22_NQoXo",
    "outputId": "23e48ca5-7706-45bd-dc6b-cd70bfbcbecf"
   },
   "outputs": [
    {
     "name": "stdout",
     "output_type": "stream",
     "text": [
      "recoveredSignature: 0x3297a0293f9d845a79ae0bcb8669be5fef7d7acff2d559472268312a53b788658838a00c2f6ad23b9cb4a5900767278b05867aac8e2e9f2890b75f144ea415b867eee02472a088c385afaa08c6e9cae0407c02efffc11d0f31fc063635f3b13c10cc6be0250a009c7f90c8926fd73ece51bd65eecef9a54114c2fd4b134d0586\n"
     ]
    }
   ],
   "source": [
    "#decoding\n",
    "recoveredSignature = pow(finalMessage, keyPair2.d, keyPair2.n)\n",
    "print(\"recoveredSignature:\", hex(recoveredSignature))"
   ]
  },
  {
   "cell_type": "code",
   "execution_count": 19,
   "metadata": {
    "id": "PlFWhKrb308k"
   },
   "outputs": [],
   "source": [
    "\n",
    "start_time = time.time()"
   ]
  },
  {
   "cell_type": "code",
   "execution_count": 20,
   "metadata": {
    "colab": {
     "base_uri": "https://localhost:8080/"
    },
    "id": "WAwUlrHsQoaO",
    "outputId": "2f16f649-34f9-4439-bfe5-8fe8b94780c8"
   },
   "outputs": [
    {
     "name": "stdout",
     "output_type": "stream",
     "text": [
      "bitflips: 72\n",
      "sha1: e7d991ec778a887ee3bec9db230e66ab58e877f4\n",
      "getting back corrupt\n",
      "bitflips: 72\n",
      "sha1: e7d991ec778a887ee3bec9db230e66ab58e877f4\n",
      "getting back corrupt\n",
      "bitflips: 72\n",
      "sha1: e7d991ec778a887ee3bec9db230e66ab58e877f4\n",
      "getting back corrupt\n",
      "bitflips: 72\n",
      "sha1: e7d991ec778a887ee3bec9db230e66ab58e877f4\n",
      "getting back corrupt\n",
      "bitflips: 72\n",
      "sha1: e7d991ec778a887ee3bec9db230e66ab58e877f4\n",
      "getting back corrupt\n",
      "bitflips: 72\n",
      "sha1: e7d991ec778a887ee3bec9db230e66ab58e877f4\n",
      "getting back corrupt\n",
      "bitflips: 72\n",
      "sha1: e7d991ec778a887ee3bec9db230e66ab58e877f4\n",
      "getting back corrupt\n",
      "bitflips: 72\n",
      "sha1: e7d991ec778a887ee3bec9db230e66ab58e877f4\n",
      "getting back corrupt\n",
      "bitflips: 72\n",
      "sha1: e7d991ec778a887ee3bec9db230e66ab58e877f4\n",
      "getting back corrupt\n",
      "bitflips: 72\n",
      "sha1: e7d991ec778a887ee3bec9db230e66ab58e877f4\n",
      "getting back corrupt\n",
      "bitflips: 72\n",
      "sha1: e7d991ec778a887ee3bec9db230e66ab58e877f4\n",
      "getting back corrupt\n",
      "bitflips: 72\n",
      "sha1: e7d991ec778a887ee3bec9db230e66ab58e877f4\n",
      "getting back corrupt\n",
      "bitflips: 72\n",
      "sha1: e7d991ec778a887ee3bec9db230e66ab58e877f4\n",
      "getting back corrupt\n",
      "bitflips: 72\n",
      "sha1: e7d991ec778a887ee3bec9db230e66ab58e877f4\n",
      "getting back corrupt\n",
      "bitflips: 72\n",
      "sha1: e7d991ec778a887ee3bec9db230e66ab58e877f4\n",
      "getting back corrupt\n",
      "bitflips: 72\n",
      "sha1: e7d991ec778a887ee3bec9db230e66ab58e877f4\n",
      "getting back corrupt\n",
      "bitflips: 72\n",
      "sha1: e7d991ec778a887ee3bec9db230e66ab58e877f4\n",
      "getting back corrupt\n",
      "bitflips: 72\n",
      "sha1: e7d991ec778a887ee3bec9db230e66ab58e877f4\n",
      "getting back corrupt\n",
      "bitflips: 72\n",
      "sha1: e7d991ec778a887ee3bec9db230e66ab58e877f4\n",
      "getting back corrupt\n",
      "bitflips: 72\n",
      "sha1: e7d991ec778a887ee3bec9db230e66ab58e877f4\n",
      "getting back corrupt\n",
      "bitflips: 72\n",
      "sha1: e7d991ec778a887ee3bec9db230e66ab58e877f4\n",
      "getting back corrupt\n",
      "bitflips: 72\n",
      "sha1: e7d991ec778a887ee3bec9db230e66ab58e877f4\n",
      "getting back corrupt\n",
      "bitflips: 72\n",
      "sha1: e7d991ec778a887ee3bec9db230e66ab58e877f4\n",
      "getting back corrupt\n",
      "bitflips: 72\n",
      "sha1: e7d991ec778a887ee3bec9db230e66ab58e877f4\n",
      "getting back corrupt\n",
      "bitflips: 72\n",
      "sha1: e7d991ec778a887ee3bec9db230e66ab58e877f4\n",
      "getting back corrupt\n",
      "bitflips: 72\n",
      "sha1: 7924c2c630b3b2b59b2a6cba6182720b855417c3\n",
      "getting back corrupt\n",
      "bitflips: 72\n",
      "sha1: 67eaba2d53b9684d23029dfa31297133b598c0bf\n",
      "getting back corrupt\n",
      "bitflips: 72\n",
      "sha1: e05146cc1ce704ed1d68f6708afbd3beabced658\n",
      "getting back corrupt\n",
      "bitflips: 72\n",
      "sha1: cb8cf98ebbf2db78e509725f4f4fd38810b865e8\n",
      "getting back corrupt\n",
      "bitflips: 72\n",
      "sha1: c6181e841907dbbccfbaf316fb49100cb4f1a9cd\n",
      "getting back corrupt\n",
      "bitflips: 72\n",
      "sha1: 661a336ce74e871c4f6ec55e2513513ee9ccab94\n",
      "getting back corrupt\n",
      "bitflips: 72\n",
      "sha1: 8898994c3439169eda53d572579c4c6f41cd8383\n",
      "getting back corrupt\n",
      "bitflips: 72\n",
      "sha1: a12e36cb0cf3b3d9d9c68f119ae9948aa9ef37dc\n",
      "getting back corrupt\n",
      "bitflips: 72\n",
      "sha1: fa954b2a0105962fe053235b2039d1db7569895e\n",
      "getting back corrupt\n",
      "bitflips: 72\n",
      "sha1: ed55990f2933b83280f91c8b59bcda16f5dcc218\n",
      "getting back corrupt\n",
      "bitflips: 72\n",
      "sha1: 555da72119657302440b26c5d54c40b67db192af\n",
      "getting back corrupt\n",
      "bitflips: 72\n",
      "sha1: f6203ddd1772dfa891dfbce15cfd42c42f38c34b\n",
      "getting back corrupt\n",
      "bitflips: 72\n",
      "sha1: 67cd93ad505c08e7b9890bb1018d52154d452d65\n",
      "getting back corrupt\n",
      "bitflips: 72\n",
      "sha1: aeecd2ff598e3d6ea39dabd19a30b918a50a8521\n",
      "getting back corrupt\n",
      "bitflips: 72\n",
      "sha1: 3af81719f35eb52a4a283f2e8d881bc50291e49d\n",
      "getting back corrupt\n",
      "bitflips: 72\n",
      "sha1: 007197a9e9176a5e9f473529f662019cf9ee6b6d\n",
      "getting back corrupt\n",
      "bitflips: 72\n",
      "sha1: e999993a277238531c2bff9bf363d1fc509b7c71\n",
      "getting back corrupt\n",
      "bitflips: 72\n",
      "sha1: c8834247fc2308d4173b9327a4d992001f14e3bc\n",
      "getting back corrupt\n",
      "bitflips: 72\n",
      "sha1: 6ff9d2f0754eaaae4ae7f571ce06e8d07ea08cf7\n",
      "getting back corrupt\n",
      "bitflips: 72\n",
      "sha1: acbc56767db412719e2d18a06a300417ca01d721\n",
      "getting back corrupt\n",
      "bitflips: 72\n",
      "sha1: 71347df04805c7fef03e038355973703fd7a9146\n",
      "getting back corrupt\n",
      "bitflips: 72\n",
      "sha1: a6d355f80b238ece33cb2d3f9159845ef2860b01\n",
      "getting back corrupt\n",
      "bitflips: 72\n",
      "sha1: d9762d94ba69affa0261a40991af81f44b48a51a\n",
      "getting back corrupt\n",
      "bitflips: 72\n",
      "sha1: 1cfc10b4b3ac46f386b291d3a3bf3a2fd255d001\n",
      "getting back corrupt\n",
      "bitflips: 72\n",
      "sha1: a01cf7a6c00e46aea236168fb1d2291117391a56\n",
      "getting back corrupt\n",
      "bitflips: 72\n",
      "sha1: 92fbb8d9f1063cc9c8ccb267c5db9f5160f37407\n",
      "getting back corrupt\n",
      "bitflips: 72\n",
      "sha1: 44573a40cc9cbf6d98b55aeed58fa802975f1f66\n",
      "getting back corrupt\n",
      "bitflips: 72\n",
      "sha1: 9cec2a10c429300d9cc7288146123e01cdf68375\n",
      "getting back corrupt\n",
      "bitflips: 72\n",
      "sha1: 4430a02041b3118fffc6e84fcba1749eefc03d52\n",
      "getting back corrupt\n",
      "bitflips: 72\n",
      "sha1: 0769107262f84776b0be3220b9d2a1dad36a94a4\n",
      "getting back corrupt\n",
      "bitflips: 72\n",
      "sha1: 7f58086669ddc851d5e64102118818cd8769bd63\n",
      "getting back corrupt\n",
      "bitflips: 72\n",
      "sha1: 179635ae9846c568ce39813d57b0a50e4153f4eb\n",
      "getting back corrupt\n",
      "bitflips: 72\n",
      "sha1: d640041ab9e2cab4a9314b58547108a8407b5c96\n",
      "getting back corrupt\n",
      "bitflips: 72\n",
      "sha1: 2eff3e7311d93dbc0ec1f38bfd2f497de7081a18\n",
      "getting back corrupt\n",
      "bitflips: 72\n",
      "sha1: e6597c02b6d2f3018a26cfe031080936d8cbc3dd\n",
      "getting back corrupt\n",
      "bitflips: 72\n",
      "sha1: 04c26f0a8cc2c0e2a5e8ce9e3dfb1efa0efb80da\n",
      "getting back corrupt\n",
      "bitflips: 72\n",
      "sha1: dfef6bc7b527b43abdfc3366b33ba9e935b878f2\n",
      "getting back corrupt\n",
      "bitflips: 72\n",
      "sha1: 42e83e81032ef7aa0ebf1e5f18e12bf1b30a6fa0\n",
      "getting back corrupt\n",
      "bitflips: 72\n",
      "sha1: 57b889c1abc6a71f51cf880ec1fc5d3e4b33dba6\n",
      "getting back corrupt\n",
      "bitflips: 72\n",
      "sha1: 13722a257990a42a2f9ebbcc6fca22aa7ad01198\n",
      "getting back corrupt\n",
      "bitflips: 72\n",
      "sha1: 01a544be993265af6be3753f766f80d752c3e90c\n",
      "getting back corrupt\n",
      "bitflips: 72\n",
      "sha1: 1347ddaa6b0720eefc14b525c59ebf24b88b7d9c\n",
      "getting back corrupt\n",
      "bitflips: 72\n",
      "sha1: 3ffd236fc2bd1c7709cb37110bd9b29cc5e0f061\n",
      "getting back corrupt\n",
      "bitflips: 72\n",
      "sha1: 0d26e066f1206e67ef1cbfd04638395a16c1f230\n",
      "getting back corrupt\n",
      "bitflips: 72\n",
      "sha1: aacd271cba6bae9479c2d0dc4f5542deacca947b\n",
      "getting back corrupt\n",
      "bitflips: 72\n",
      "sha1: 39e8152204ee48b6a8070d463f62521d7a72e2cc\n",
      "getting back corrupt\n",
      "bitflips: 72\n",
      "sha1: 87c077cb488c7af8ce802205634c236496762752\n",
      "getting back corrupt\n",
      "bitflips: 72\n",
      "sha1: 6e152c9c8abff7565c7245d8b2db982477578ce4\n",
      "getting back corrupt\n",
      "bitflips: 72\n",
      "sha1: 87055bc64e1f606ac2b6948ea3df6068a6b828b5\n",
      "getting back corrupt\n",
      "bitflips: 72\n",
      "sha1: dc08b1ed7c2b6551f0d72115f7281b57c8bb2134\n",
      "getting back corrupt\n",
      "bitflips: 72\n",
      "sha1: 009d6a1dc923449699516947ea5b33ac74e14bb1\n",
      "getting back corrupt\n",
      "bitflips: 72\n",
      "sha1: 46a17cac3d903c1370ab2db2900bb3db7242914e\n",
      "getting back corrupt\n",
      "bitflips: 72\n",
      "sha1: 3bf2a82f7c3dacfccd520a0964e34c4432a8f03b\n",
      "getting back corrupt\n",
      "bitflips: 72\n",
      "sha1: 7af7299f613f593b301ed05a5bf1b9e000ff213e\n",
      "getting back corrupt\n",
      "bitflips: 72\n",
      "sha1: 0c198216b595130c84aa2fbe515bee93a6e96e57\n",
      "getting back corrupt\n",
      "bitflips: 72\n",
      "sha1: 894e0ac9adb0b126fff3882f52b9b09a44101803\n",
      "getting back corrupt\n",
      "bitflips: 72\n",
      "sha1: 6f7900b4a07355378e030d34b24f029dd01b69e2\n",
      "getting back corrupt\n",
      "bitflips: 72\n",
      "sha1: 39feeae2ddf79fc1aaa63c177bf9210c33744c94\n",
      "getting back corrupt\n",
      "bitflips: 72\n",
      "sha1: 38f47670b16a1c2e14bb03b8d0cd748cb421f929\n",
      "getting back corrupt\n",
      "bitflips: 72\n",
      "sha1: 84e402d6827102bed31b8ac6fca1d2725d5d4dbd\n",
      "getting back corrupt\n",
      "bitflips: 72\n",
      "sha1: a9b5043fbc7e2cd5863a5f48bfe77afe7156b804\n",
      "getting back corrupt\n",
      "bitflips: 72\n",
      "sha1: 87fbc018b33c3d28639135816dc0e5b997d2d378\n",
      "getting back corrupt\n",
      "bitflips: 72\n",
      "sha1: a31e81df9adb4f37f9ebc98e17b1493b335c5604\n",
      "getting back corrupt\n",
      "bitflips: 72\n",
      "sha1: 0ccf8d2fd4efd7f9547ab2c8fb4bc1b3caa8bec5\n",
      "getting back corrupt\n",
      "bitflips: 72\n",
      "sha1: 6dff78f9711f588aea773ed51a6bde6d5888ea68\n",
      "getting back corrupt\n",
      "bitflips: 72\n",
      "sha1: 72a44366597e4c2ced3c0a53c36bdade01502ce2\n",
      "getting back corrupt\n",
      "bitflips: 72\n",
      "sha1: b4ee823e72df7d227d1c9356967d4ba7937dce45\n",
      "getting back corrupt\n",
      "bitflips: 72\n",
      "sha1: 7d795a98b208e67daaad301e98a8f92df61add30\n",
      "getting back corrupt\n",
      "bitflips: 72\n",
      "sha1: 2cf54f679ba7e227f83e6aca8e8450e18ca7fdb8\n",
      "getting back corrupt\n",
      "bitflips: 72\n",
      "sha1: 95c337fe12d31446ce3cc23396efdc4d450e7935\n",
      "getting back corrupt\n",
      "bitflips: 72\n",
      "sha1: e209cf8b8a821d3473c8d4629476beab77eea18e\n",
      "getting back corrupt\n",
      "bitflips: 72\n",
      "sha1: 35b259644e70d9b330eeff82d04efbd79349642a\n",
      "getting back corrupt\n",
      "bitflips: 72\n",
      "sha1: 2a5ff04a126c9aa0b6744f95beb0c975fa406a0f\n",
      "getting back corrupt\n",
      "bitflips: 72\n",
      "sha1: 47127e4de40ea9fa807101a66d2e8bcdc05f70a4\n",
      "getting back corrupt\n",
      "bitflips: 72\n",
      "sha1: d929010ff9cdff6d66910b04d30fcdf21fc63a2b\n",
      "getting back corrupt\n",
      "bitflips: 72\n",
      "sha1: b82e2b68f6a5a02f98a1ee3654b67f88b7c62ff5\n",
      "getting back corrupt\n"
     ]
    },
    {
     "name": "stdout",
     "output_type": "stream",
     "text": [
      "bitflips: 72\n",
      "sha1: 2ae9ed8a9693935b9a6be82d266654824606455a\n",
      "getting back corrupt\n",
      "bitflips: 72\n",
      "sha1: d6b1631d64c782a3a06fe23802a76125c2b99353\n",
      "getting back corrupt\n",
      "bitflips: 72\n",
      "sha1: e364a6ea6e210e3defc058d42d238e7ac502f613\n",
      "getting back corrupt\n",
      "bitflips: 72\n",
      "sha1: aeb8a4babbbb6ac0d1b6cfdfcce3dc0a079159fa\n",
      "getting back corrupt\n",
      "bitflips: 72\n",
      "sha1: f00661a9684b3f71e4e282c94c4d76bbdce22914\n",
      "getting back corrupt\n",
      "bitflips: 72\n",
      "sha1: e47b4285ba52d9f802c4e75062c266b20b0bf2cc\n",
      "getting back corrupt\n",
      "bitflips: 72\n",
      "sha1: ac6b4fe21ad9e8c90ea950be5c5085c0b8c812ad\n",
      "getting back corrupt\n",
      "bitflips: 72\n",
      "sha1: 733a848564ef1f77a9f08d80ed1869c3403f0c47\n",
      "getting back corrupt\n",
      "bitflips: 72\n",
      "sha1: 908b4d6ec0b346205b2bc81be26512c166832a25\n",
      "getting back corrupt\n",
      "bitflips: 72\n",
      "sha1: 3716c18f55ed3038c877291609fe05f3958e686a\n",
      "getting back corrupt\n",
      "bitflips: 72\n",
      "sha1: 0c4680905cee03c14c18aac80338a2169ed1bdc7\n",
      "getting back corrupt\n",
      "bitflips: 72\n",
      "sha1: b26f1de63d9bceeaeb30aee108585eb8baf0dcb4\n",
      "getting back corrupt\n",
      "bitflips: 72\n",
      "sha1: 0364df36e8ebe97171fbef3b6aba2274253678a6\n",
      "getting back corrupt\n",
      "bitflips: 72\n",
      "sha1: de437386cc9746a74b1db86fa3dee2e2782430f1\n",
      "getting back corrupt\n",
      "bitflips: 72\n",
      "sha1: 8a0be01e25ccdb0f97924aaf76b3fbdaa36a0187\n",
      "getting back corrupt\n",
      "bitflips: 72\n",
      "sha1: 05b88387924b8654659d20c518cf286a18e31c8d\n",
      "getting back corrupt\n",
      "bitflips: 72\n",
      "sha1: c4d3b509ca4e39d0137f03556c5629687ef27e02\n",
      "getting back corrupt\n",
      "bitflips: 72\n",
      "sha1: d711e104a985c62c94ab0d53d734e89ea790f97b\n",
      "getting back corrupt\n",
      "bitflips: 72\n",
      "sha1: f6a05272d13c5cf06e29d3b34ef995e5194e341a\n",
      "getting back corrupt\n",
      "bitflips: 72\n",
      "sha1: 922335602134d04b331e904ebf76a56c8cd2bb4a\n",
      "getting back corrupt\n",
      "bitflips: 72\n",
      "sha1: 2ee3a251fac2e647f8a5f401bacb09e0e409f5e5\n",
      "getting back corrupt\n",
      "bitflips: 72\n",
      "sha1: be888666c6672da830c291a2da81316120df68cc\n",
      "getting back corrupt\n",
      "bitflips: 72\n",
      "sha1: d9580bf7230eb734e640dc112536d9f0ca9aeba7\n",
      "getting back corrupt\n",
      "bitflips: 72\n",
      "sha1: df3661ae7be707c668cb4a6de79e70f60acecfab\n",
      "getting back corrupt\n",
      "bitflips: 72\n",
      "sha1: 5727f3c1cad2859eb0908db87cd3a38d157761bf\n",
      "getting back corrupt\n",
      "bitflips: 72\n",
      "sha1: f756c3b762a4535789a615c9aefe73b2586a28b3\n",
      "getting back corrupt\n",
      "bitflips: 72\n",
      "sha1: 2b7c87e6e27993868fd1e846aa6291a80b14ad0d\n",
      "getting back corrupt\n",
      "bitflips: 72\n",
      "sha1: a01bbf253d10badcc8bebba348305ae004593e47\n",
      "getting back corrupt\n",
      "bitflips: 72\n",
      "sha1: 1db06ee5e45556c0efdca6ea58501e840a8e1e11\n",
      "getting back corrupt\n",
      "bitflips: 72\n",
      "sha1: d55257cd902d7d7b10e9332ed1e8603cfe951480\n",
      "getting back corrupt\n",
      "bitflips: 72\n",
      "sha1: 5d56e27493719c5e3a494d8ad53f79ab6138cd1d\n",
      "getting back corrupt\n",
      "bitflips: 72\n",
      "sha1: 4b86cdc3c9bd00d28e8c2651497ed2c3b65ef663\n",
      "getting back corrupt\n",
      "bitflips: 72\n",
      "sha1: 9e89da84b0cf01e5cbeb43505dacbc074b330c21\n",
      "getting back corrupt\n",
      "bitflips: 72\n",
      "sha1: c626dc75e26f9082e7f3832ed144f755b8bc04ce\n",
      "getting back corrupt\n",
      "bitflips: 72\n",
      "sha1: 6341dc467f278554446bb82abea4bd43695016ed\n",
      "getting back corrupt\n",
      "bitflips: 72\n",
      "sha1: c3137bc7c188833805bb6955bc5b729a6ab12445\n",
      "getting back corrupt\n",
      "bitflips: 72\n",
      "sha1: 9f5343b9888bef214bcfb5f9675611516dc2eef2\n",
      "getting back corrupt\n",
      "bitflips: 72\n",
      "sha1: e7ee75c5d4e109fd3bd3492a809ace7332bc6a05\n",
      "getting back corrupt\n",
      "bitflips: 72\n",
      "sha1: 3dcc05ef547ef3e0f132ccc46c50566a0192944d\n",
      "getting back corrupt\n",
      "bitflips: 72\n",
      "sha1: f615d2033a36193b3fb5aa86ff8fa7e3bf97c483\n",
      "getting back corrupt\n",
      "bitflips: 72\n",
      "sha1: 9b2e6d8ed2184c7c750be9f178c6aa2253935ff7\n",
      "getting back corrupt\n",
      "bitflips: 72\n",
      "sha1: 38c9f92660a0efcc52a1460b060e764f473de27b\n",
      "getting back corrupt\n",
      "bitflips: 72\n",
      "sha1: 8f3bc37d20924d63ec3c66e1f07c54e4442f82db\n",
      "getting back corrupt\n",
      "bitflips: 72\n",
      "sha1: 34d6ae841c39f9067e0673394b2bdba83bad6007\n",
      "getting back corrupt\n",
      "bitflips: 72\n",
      "sha1: 61b6d4592d6c02b72cd784b4748a19e1a90749b2\n",
      "getting back corrupt\n",
      "bitflips: 72\n",
      "sha1: cac8f11fa70252ebb524d314c7fea302580ba54b\n",
      "getting back corrupt\n",
      "bitflips: 72\n",
      "sha1: 4ef5d25752c9c293963d060ecb3230b91aef7a01\n",
      "getting back corrupt\n",
      "bitflips: 72\n",
      "sha1: 11f62fb1b522023ab273db4fdf63ae0046c472c3\n",
      "getting back corrupt\n",
      "bitflips: 72\n",
      "sha1: 7eb0c967428158d732fa205060e462521a9fa717\n",
      "getting back corrupt\n",
      "bitflips: 72\n",
      "sha1: ec2269a39dcd3a0264b0cc746853d5f9d6cbc5e0\n",
      "getting back corrupt\n",
      "bitflips: 72\n",
      "sha1: 44c2276435a7398d9650683562fde8b95a20f30a\n",
      "getting back corrupt\n",
      "bitflips: 72\n",
      "sha1: 4c5181f316ddda2937619d1eab2ade8df66dc6e3\n",
      "getting back corrupt\n",
      "bitflips: 72\n",
      "sha1: 97075a5ce117dec9436239372243c4bda4159542\n",
      "getting back corrupt\n",
      "bitflips: 72\n",
      "sha1: 5729b17a311e0be2bee098f9a8bab658ba1c4be4\n",
      "getting back corrupt\n",
      "bitflips: 72\n",
      "sha1: ed0d59f884f51d967dae54b567ef528328ebc91e\n",
      "getting back corrupt\n",
      "bitflips: 72\n",
      "sha1: f00a6e4e3cca8e161a45bf7dd5f58e0b2087fb44\n",
      "getting back corrupt\n",
      "bitflips: 72\n",
      "sha1: 2af5ec1cf21b0701a672e1869fcd1a2f7dfff969\n",
      "getting back corrupt\n",
      "bitflips: 72\n",
      "sha1: c433b0c95381b47dfc083ba39f4a8eed76a27f9a\n",
      "getting back corrupt\n",
      "bitflips: 72\n",
      "sha1: 3a8df294a6b5858dde872c81c366e10f5c88a1c9\n",
      "getting back corrupt\n",
      "bitflips: 72\n",
      "sha1: c9cc3dc328022a35963bcabae4ea1bc2a7957d3a\n",
      "getting back corrupt\n",
      "bitflips: 72\n",
      "sha1: 0d7fac0ce4ea05491269a70389c119cfa1e3aaee\n",
      "getting back corrupt\n",
      "bitflips: 72\n",
      "sha1: cb251ea17d010a827466eba63f4b362c849487a5\n",
      "getting back corrupt\n",
      "bitflips: 72\n",
      "sha1: d6acc595e6887f6b3d559b8d32c86b3c7db5b0fb\n",
      "getting back corrupt\n",
      "bitflips: 72\n",
      "sha1: 636c9d1060f0489f063c685b072430180f41a140\n",
      "getting back corrupt\n",
      "bitflips: 72\n",
      "sha1: d3a5820d4abcc079aafba15ec84554c79bb51c24\n",
      "getting back corrupt\n",
      "bitflips: 72\n",
      "sha1: f1ee58b211607fdb3d8f6ad24ea19578f4dd7156\n",
      "getting back corrupt\n",
      "bitflips: 72\n",
      "sha1: 86b578c28f647f2b98ce4c50c37cd633389bdde7\n",
      "getting back corrupt\n",
      "bitflips: 72\n",
      "sha1: aed2a7e1a64a3164f0ec82795696e9a79712bf1c\n",
      "getting back corrupt\n",
      "bitflips: 72\n",
      "sha1: 2b3019e4a14eb4df21c0075860ebfdd46d3f5a87\n",
      "getting back corrupt\n",
      "bitflips: 72\n",
      "sha1: 326d67fe7cbf2a44782c0fa17018f111417ea088\n",
      "getting back corrupt\n",
      "bitflips: 72\n",
      "sha1: 496a6655663059f7a12da3c9a7751a9f177977ed\n",
      "getting back corrupt\n",
      "bitflips: 72\n",
      "sha1: 46cd415e3c9a27f44a9344a18f666c5d7e24db1d\n",
      "getting back corrupt\n",
      "bitflips: 72\n",
      "sha1: 25695e90abf0fa4cc9ac2e80d474d45c0d1cd402\n",
      "getting back corrupt\n",
      "bitflips: 72\n",
      "sha1: 4218b612a083f6dea02dc16e110faf5b1aee8eeb\n",
      "getting back corrupt\n",
      "bitflips: 72\n",
      "sha1: 9b6858c5f40ff84488296980639b33469924fb33\n",
      "getting back corrupt\n",
      "bitflips: 72\n",
      "sha1: 4406ad0792d55202d5fd9e12bf5645fdfd0d64f4\n",
      "getting back corrupt\n",
      "bitflips: 72\n",
      "sha1: f583de7d8f4ef70c9d0ac9d046768de55d2e89fd\n",
      "getting back corrupt\n",
      "bitflips: 72\n",
      "sha1: 2a673733185cd1800aecfe02b1ecc9d41b594d5a\n",
      "getting back corrupt\n",
      "bitflips: 72\n",
      "sha1: e659ea2d7b27a43cae5fdeaba5077488dd057157\n",
      "getting back corrupt\n",
      "bitflips: 72\n",
      "sha1: a8998ad2dc39e9458ae0e5852858338a6d0298f2\n",
      "getting back corrupt\n",
      "bitflips: 72\n",
      "sha1: e73455d2665dc77ad7b7c783f06bd931e4250a71\n",
      "getting back corrupt\n",
      "bitflips: 72\n",
      "sha1: 9d4af49d3dd294845ba9ccaff5a18e95419540d2\n",
      "getting back corrupt\n",
      "bitflips: 72\n",
      "sha1: d38d13a6800ada64ab0546995c89b8a7f011d052\n",
      "getting back corrupt\n",
      "bitflips: 72\n",
      "sha1: 66d3a4a2593f1b31bbd56fc294b5d11f178c00a1\n",
      "getting back corrupt\n",
      "bitflips: 72\n",
      "sha1: ceb1195a481c6b36568b1299cae0e7788e0473c5\n",
      "getting back corrupt\n",
      "bitflips: 72\n",
      "sha1: 51866ab7329a8515b1c8b56ebb72e632f18f11a0\n",
      "getting back corrupt\n",
      "bitflips: 72\n",
      "sha1: 076cefe496673617f57477be8afac7535dab5dd0\n",
      "getting back corrupt\n",
      "bitflips: 72\n",
      "sha1: 93ed9350d68d781968707380cd7546bbc32a2525\n",
      "getting back corrupt\n",
      "bitflips: 72\n",
      "sha1: e797713c1c7f3447aee9ea6ae506086ec73135a5\n",
      "getting back corrupt\n",
      "bitflips: 72\n",
      "sha1: ff5eb65d42c58d2acf5bc6efeae8632e0f48144c\n",
      "getting back corrupt\n",
      "bitflips: 72\n",
      "sha1: 5d1fe1c5b426f48920bee6de4ffb223491474cc6\n",
      "getting back corrupt\n",
      "bitflips: 72\n",
      "sha1: b52f1311745a5819f37a7724240bea4a2d4288ea\n",
      "getting back corrupt\n",
      "bitflips: 72\n",
      "sha1: c0a384848600866d5edc124ee0a00a62dcf5aeeb\n",
      "getting back corrupt\n",
      "bitflips: 72\n",
      "sha1: 4252219c52eba8c6e59aae459cf4538b5ad56c8b\n",
      "getting back corrupt\n",
      "bitflips: 72\n",
      "sha1: 8c00434a9f1ebcd03a9c8c7b11b65d76585b429e\n",
      "getting back corrupt\n",
      "bitflips: 72\n",
      "sha1: b4a65ec0046f55a18caf6e39a388c71ab319d1f9\n",
      "getting back corrupt\n",
      "bitflips: 72\n",
      "sha1: 67f23bc6763a0bf0923e87c0b4416d0e1b0d9144\n",
      "getting back corrupt\n",
      "bitflips: 72\n",
      "sha1: 706e1df8667274b217d4bfee5617486c370e73ad\n",
      "getting back corrupt\n",
      "bitflips: 72\n",
      "sha1: 8cf51ec6c0dc780a471c922a7fc23554465371f7\n",
      "getting back corrupt\n",
      "bitflips: 72\n",
      "sha1: be70f9fec1de8577156bf4e81dd181b26b6f0ec7\n",
      "getting back corrupt\n",
      "bitflips: 72\n",
      "sha1: 422acbe78181bb4c6cdac65ba3231b74c6c73722\n",
      "getting back corrupt\n"
     ]
    },
    {
     "name": "stdout",
     "output_type": "stream",
     "text": [
      "bitflips: 72\n",
      "sha1: c68c18a2b1a7e1b56cf544b4c7ae0107d508b065\n",
      "getting back corrupt\n",
      "bitflips: 72\n",
      "sha1: 7614c2ec79c14a7d414c269841796a102a485915\n",
      "getting back corrupt\n",
      "bitflips: 72\n",
      "sha1: 216b89e12183b0bab266b910fdff7785f0bfc9c8\n",
      "getting back corrupt\n",
      "bitflips: 72\n",
      "sha1: e7d991ec778a887ee3bec9db230e66ab58e877f4\n",
      "getting back corrupt\n",
      "bitflips: 72\n",
      "sha1: e7d991ec778a887ee3bec9db230e66ab58e877f4\n",
      "getting back corrupt\n",
      "bitflips: 72\n",
      "sha1: e7d991ec778a887ee3bec9db230e66ab58e877f4\n",
      "getting back corrupt\n",
      "bitflips: 72\n",
      "sha1: e7d991ec778a887ee3bec9db230e66ab58e877f4\n",
      "getting back corrupt\n",
      "bitflips: 72\n",
      "sha1: e7d991ec778a887ee3bec9db230e66ab58e877f4\n",
      "getting back corrupt\n",
      "bitflips: 72\n",
      "sha1: e7d991ec778a887ee3bec9db230e66ab58e877f4\n",
      "getting back corrupt\n",
      "bitflips: 72\n",
      "sha1: e7d991ec778a887ee3bec9db230e66ab58e877f4\n",
      "getting back corrupt\n",
      "bitflips: 72\n",
      "sha1: e7d991ec778a887ee3bec9db230e66ab58e877f4\n",
      "getting back corrupt\n",
      "bitflips: 72\n",
      "sha1: e7d991ec778a887ee3bec9db230e66ab58e877f4\n",
      "getting back corrupt\n",
      "bitflips: 72\n",
      "sha1: e7d991ec778a887ee3bec9db230e66ab58e877f4\n",
      "getting back corrupt\n",
      "bitflips: 72\n",
      "sha1: e7d991ec778a887ee3bec9db230e66ab58e877f4\n",
      "getting back corrupt\n",
      "bitflips: 72\n",
      "sha1: e7d991ec778a887ee3bec9db230e66ab58e877f4\n",
      "getting back corrupt\n",
      "bitflips: 72\n",
      "sha1: e7d991ec778a887ee3bec9db230e66ab58e877f4\n",
      "getting back corrupt\n",
      "bitflips: 72\n",
      "sha1: e7d991ec778a887ee3bec9db230e66ab58e877f4\n",
      "getting back corrupt\n",
      "bitflips: 72\n",
      "sha1: e7d991ec778a887ee3bec9db230e66ab58e877f4\n",
      "getting back corrupt\n",
      "bitflips: 72\n",
      "sha1: e7d991ec778a887ee3bec9db230e66ab58e877f4\n",
      "getting back corrupt\n",
      "bitflips: 72\n",
      "sha1: e7d991ec778a887ee3bec9db230e66ab58e877f4\n",
      "getting back corrupt\n",
      "bitflips: 72\n",
      "sha1: e7d991ec778a887ee3bec9db230e66ab58e877f4\n",
      "getting back corrupt\n",
      "bitflips: 72\n",
      "sha1: e7d991ec778a887ee3bec9db230e66ab58e877f4\n",
      "getting back corrupt\n",
      "bitflips: 72\n",
      "sha1: e7d991ec778a887ee3bec9db230e66ab58e877f4\n",
      "getting back corrupt\n"
     ]
    }
   ],
   "source": [
    "for n in range(0, 228825, 1017):\n",
    "    packet2 = bytearray(0)\n",
    "    finalCorrect= ''\n",
    "    for i in range(n, n + 1017):\n",
    "        packet2.append(final_corrupt[i]);# making a copy of the corrupted bytearray\n",
    "        \n",
    "    # de-packetize\n",
    "    data, ecc = packet2[:-bch.ecc_bytes], packet2[-bch.ecc_bytes:]\n",
    "    \n",
    "    # correct\n",
    "    bitflips = bch.decode_inplace(data, ecc)\n",
    "    print('bitflips: %d' % (bitflips)) # calculating the no. of bitflips and printing it\n",
    "    \n",
    "    # packetize\n",
    "    packet = data + ecc\n",
    "    for i in range(len(data)):\n",
    "        final_data.append(data[i]) # appending each decoded data block into a byte array\n",
    "    \n",
    "    ####### YE KUCH KAAM KA NAHI HE\n",
    "    # print hash of packet\n",
    "    sha1_corrected = hashlib.sha1(packet)\n",
    "    print('sha1: %s' % (sha1_corrected.hexdigest(),))\n",
    "    dec_sha.append(sha1_corrected.hexdigest()) # copying the decoded data block into an array\n",
    "    ##########################################\n",
    "     \n",
    "    print(\"getting back corrupt\")\n",
    "    \n",
    "    for i in range(BCH_BITS):\n",
    "#         print(packet[i])\n",
    "        packet2[i]^= packet[i]\n",
    "        finalCorrect= finalCorrect+str(packet2[i])\n",
    "#         print(packet2[i])\n",
    "\n",
    "#     print(packet2[0:71])# printing the string used to corrupt each block"
   ]
  },
  {
   "cell_type": "code",
   "execution_count": 21,
   "metadata": {
    "id": "fsc2i5dz340D"
   },
   "outputs": [],
   "source": [
    "time_dec_bch  = time.time() - start_time\n",
    "start_time = time.time()"
   ]
  },
  {
   "cell_type": "code",
   "execution_count": 22,
   "metadata": {
    "colab": {
     "base_uri": "https://localhost:8080/"
    },
    "id": "KRLGd6SGQodA",
    "outputId": "061fbb2b-4f81-44fd-a89e-a2f0d0598b8c"
   },
   "outputs": [
    {
     "name": "stdout",
     "output_type": "stream",
     "text": [
      "Corrected!\n",
      "Corrected!\n",
      "Corrected!\n",
      "Corrected!\n",
      "Corrected!\n",
      "Corrected!\n",
      "Corrected!\n",
      "Corrected!\n",
      "Corrected!\n",
      "Corrected!\n",
      "Corrected!\n",
      "Corrected!\n",
      "Corrected!\n",
      "Corrected!\n",
      "Corrected!\n",
      "Corrected!\n",
      "Corrected!\n",
      "Corrected!\n",
      "Corrected!\n",
      "Corrected!\n",
      "Corrected!\n",
      "Corrected!\n",
      "Corrected!\n",
      "Corrected!\n",
      "Corrected!\n",
      "Corrected!\n",
      "Corrected!\n",
      "Corrected!\n",
      "Corrected!\n",
      "Corrected!\n",
      "Corrected!\n",
      "Corrected!\n",
      "Corrected!\n",
      "Corrected!\n",
      "Corrected!\n",
      "Corrected!\n",
      "Corrected!\n",
      "Corrected!\n",
      "Corrected!\n",
      "Corrected!\n",
      "Corrected!\n",
      "Corrected!\n",
      "Corrected!\n",
      "Corrected!\n",
      "Corrected!\n",
      "Corrected!\n",
      "Corrected!\n",
      "Corrected!\n",
      "Corrected!\n",
      "Corrected!\n",
      "Corrected!\n",
      "Corrected!\n",
      "Corrected!\n",
      "Corrected!\n",
      "Corrected!\n",
      "Corrected!\n",
      "Corrected!\n",
      "Corrected!\n",
      "Corrected!\n",
      "Corrected!\n",
      "Corrected!\n",
      "Corrected!\n",
      "Corrected!\n",
      "Corrected!\n",
      "Corrected!\n",
      "Corrected!\n",
      "Corrected!\n",
      "Corrected!\n",
      "Corrected!\n",
      "Corrected!\n",
      "Corrected!\n",
      "Corrected!\n",
      "Corrected!\n",
      "Corrected!\n",
      "Corrected!\n",
      "Corrected!\n",
      "Corrected!\n",
      "Corrected!\n",
      "Corrected!\n",
      "Corrected!\n",
      "Corrected!\n",
      "Corrected!\n",
      "Corrected!\n",
      "Corrected!\n",
      "Corrected!\n",
      "Corrected!\n",
      "Corrected!\n",
      "Corrected!\n",
      "Corrected!\n",
      "Corrected!\n",
      "Corrected!\n",
      "Corrected!\n",
      "Corrected!\n",
      "Corrected!\n",
      "Corrected!\n",
      "Corrected!\n",
      "Corrected!\n",
      "Corrected!\n",
      "Corrected!\n",
      "Corrected!\n",
      "Corrected!\n",
      "Corrected!\n",
      "Corrected!\n",
      "Corrected!\n",
      "Corrected!\n",
      "Corrected!\n",
      "Corrected!\n",
      "Corrected!\n",
      "Corrected!\n",
      "Corrected!\n",
      "Corrected!\n",
      "Corrected!\n",
      "Corrected!\n",
      "Corrected!\n",
      "Corrected!\n",
      "Corrected!\n",
      "Corrected!\n",
      "Corrected!\n",
      "Corrected!\n",
      "Corrected!\n",
      "Corrected!\n",
      "Corrected!\n",
      "Corrected!\n",
      "Corrected!\n",
      "Corrected!\n",
      "Corrected!\n",
      "Corrected!\n",
      "Corrected!\n",
      "Corrected!\n",
      "Corrected!\n",
      "Corrected!\n",
      "Corrected!\n",
      "Corrected!\n",
      "Corrected!\n",
      "Corrected!\n",
      "Corrected!\n",
      "Corrected!\n",
      "Corrected!\n",
      "Corrected!\n",
      "Corrected!\n",
      "Corrected!\n",
      "Corrected!\n",
      "Corrected!\n",
      "Corrected!\n",
      "Corrected!\n",
      "Corrected!\n",
      "Corrected!\n",
      "Corrected!\n",
      "Corrected!\n",
      "Corrected!\n",
      "Corrected!\n",
      "Corrected!\n",
      "Corrected!\n",
      "Corrected!\n",
      "Corrected!\n",
      "Corrected!\n",
      "Corrected!\n",
      "Corrected!\n",
      "Corrected!\n",
      "Corrected!\n",
      "Corrected!\n",
      "Corrected!\n",
      "Corrected!\n",
      "Corrected!\n",
      "Corrected!\n",
      "Corrected!\n",
      "Corrected!\n",
      "Corrected!\n",
      "Corrected!\n",
      "Corrected!\n",
      "Corrected!\n",
      "Corrected!\n",
      "Corrected!\n",
      "Corrected!\n",
      "Corrected!\n",
      "Corrected!\n",
      "Corrected!\n",
      "Corrected!\n",
      "Corrected!\n",
      "Corrected!\n",
      "Corrected!\n",
      "Corrected!\n",
      "Corrected!\n",
      "Corrected!\n",
      "Corrected!\n",
      "Corrected!\n",
      "Corrected!\n",
      "Corrected!\n",
      "Corrected!\n",
      "Corrected!\n",
      "Corrected!\n",
      "Corrected!\n",
      "Corrected!\n",
      "Corrected!\n",
      "Corrected!\n",
      "Corrected!\n",
      "Corrected!\n",
      "Corrected!\n",
      "Corrected!\n",
      "Corrected!\n",
      "Corrected!\n",
      "Corrected!\n",
      "Corrected!\n",
      "Corrected!\n",
      "Corrected!\n",
      "Corrected!\n",
      "Corrected!\n",
      "Corrected!\n",
      "Corrected!\n",
      "Corrected!\n",
      "Corrected!\n",
      "Corrected!\n",
      "Corrected!\n",
      "Corrected!\n",
      "Corrected!\n",
      "Corrected!\n",
      "Corrected!\n",
      "Corrected!\n",
      "Corrected!\n",
      "Corrected!\n",
      "Corrected!\n",
      "Corrected!\n",
      "Corrected!\n",
      "Corrected!\n",
      "Corrected!\n"
     ]
    }
   ],
   "source": [
    "######## YE ACTUAL DIGITAL SIGNATURE KA PART NAHI HE ########\n",
    "############ BCH DHANG SE CHALA VO DEKH RAHE HE #############\n",
    "\n",
    "#Check if decripted value after removing XOR is same as enc val.  \n",
    "# compare output with input\n",
    "for i in range(0, 225):\n",
    "    if enc_sha[i]==dec_sha[i]: # checking if the encoded data block and decoded data block are equal\n",
    "        print(\"Corrected!\")\n",
    "    else:\n",
    "        print(\"Failed!\")"
   ]
  },
  {
   "cell_type": "code",
   "execution_count": 23,
   "metadata": {
    "colab": {
     "base_uri": "https://localhost:8080/"
    },
    "id": "J3PWmxeIQofz",
    "outputId": "13402923-d0ff-45ea-f9aa-ec2a8e639e73"
   },
   "outputs": [
    {
     "name": "stdout",
     "output_type": "stream",
     "text": [
      "64864326416216821621282648641216464121626416416412864121626412864864864128128121682164641286422163264412821281641664321281\n"
     ]
    }
   ],
   "source": [
    "#this is original image MD5 hash in OCT\n",
    "print(finalCorrect)"
   ]
  },
  {
   "cell_type": "code",
   "execution_count": 24,
   "metadata": {
    "id": "6MKgsNJBQoiV"
   },
   "outputs": [],
   "source": [
    "#according to me this code shoud not exist\n",
    "for i in range(len(final_data), len(temp)): # appending the left out elements after creating the block\n",
    "    final_data.append(temp[i])"
   ]
  },
  {
   "cell_type": "code",
   "execution_count": 25,
   "metadata": {
    "colab": {
     "base_uri": "https://localhost:8080/",
     "height": 286
    },
    "id": "C10RoBU1Qok4",
    "outputId": "69a6347d-5d0d-4dd9-8ce4-8ed0c2ea69a0"
   },
   "outputs": [
    {
     "name": "stdout",
     "output_type": "stream",
     "text": [
      "Size of recovered image in bytes:  12298\n"
     ]
    },
    {
     "data": {
      "image/png": "[encoded data removed]",
      "text/plain": [
       "<Figure size 432x288 with 1 Axes>"
      ]
     },
     "metadata": {
      "needs_background": "light"
     },
     "output_type": "display_data"
    }
   ],
   "source": [
    "#converting the byte array to a numpy array of a required dimension and then using opencv to get the image\n",
    "flatNumpyArray = numpy.array(final_data)\n",
    "bgrImage = flatNumpyArray.reshape(225, 225,4)\n",
    "\n",
    "imageio.imwrite('recovered_image.png', bgrImage)\n",
    "imshow(imageio.imread('recovered_image.png'))\n",
    "print(\"Size of recovered image in bytes: \",os.path.getsize('recovered_image.png'))"
   ]
  },
  {
   "cell_type": "code",
   "execution_count": 26,
   "metadata": {
    "id": "mCCae3oO4hCs"
   },
   "outputs": [],
   "source": [
    "start_time = time.time()"
   ]
  },
  {
   "cell_type": "code",
   "execution_count": 27,
   "metadata": {
    "colab": {
     "base_uri": "https://localhost:8080/"
    },
    "id": "hbBLUj61Qoni",
    "outputId": "93b40d17-497b-4aed-8bb4-0c1922abe7ea"
   },
   "outputs": [
    {
     "name": "stdout",
     "output_type": "stream",
     "text": [
      "64864326416216821621282648641216464121626416416412864121626412864864864128128121682164641286422163264412821281641664321281\n"
     ]
    }
   ],
   "source": [
    "#Hashing retrived image\n",
    "h2=hashlib.md5(temp)\n",
    "\n",
    "# print (h2.hexdigest())\n",
    "corrupt2 =''\n",
    "retriveCorrect= ''\n",
    "corrupt = bytearray(h2.hexdigest(), 'UTF-8')\n",
    "for i in range(len(corrupt)):\n",
    "    s = oct(corrupt[i])[2:]\n",
    "    corrupt2 = corrupt2 +s\n",
    "\n",
    "corrupt = corrupt2\n",
    "\n",
    "for i in range(len(corrupt)):\n",
    "    p = int(corrupt[i])\n",
    "    retriveCorrect= retriveCorrect+str(1<<p)\n",
    "\n",
    "print(retriveCorrect)"
   ]
  },
  {
   "cell_type": "code",
   "execution_count": 28,
   "metadata": {
    "colab": {
     "base_uri": "https://localhost:8080/"
    },
    "id": "d5CzuC_3i5rc",
    "outputId": "824045ca-72fc-46ff-d216-3248fedca73e"
   },
   "outputs": [
    {
     "name": "stdout",
     "output_type": "stream",
     "text": [
      "--- 1.3328404426574707 seconds ---\n"
     ]
    }
   ],
   "source": [
    "print(\"--- %s seconds ---\" % (time.time() - start_time))"
   ]
  },
  {
   "cell_type": "code",
   "execution_count": 29,
   "metadata": {
    "colab": {
     "base_uri": "https://localhost:8080/"
    },
    "id": "zXwziJ55QoqI",
    "outputId": "2debe5d3-c81e-488d-9c95-1c1b13cdc8e3"
   },
   "outputs": [
    {
     "name": "stdout",
     "output_type": "stream",
     "text": [
      "true\n"
     ]
    }
   ],
   "source": [
    "#Comparing RetriveImage hash VS Hash from XOR\n",
    "if(retriveCorrect==finalCorrect):\n",
    "    print('true')"
   ]
  },
  {
   "cell_type": "code",
   "execution_count": 30,
   "metadata": {
    "id": "f_QuBsF04kay"
   },
   "outputs": [],
   "source": [
    "time_compare_hash  = time.time() - start_time\n",
    "start_time = time.time()"
   ]
  },
  {
   "cell_type": "code",
   "execution_count": 31,
   "metadata": {
    "colab": {
     "base_uri": "https://localhost:8080/"
    },
    "id": "czYv1ajB2Jy0",
    "outputId": "315fcb55-2342-4ec1-ad22-4b8dd84b0d83"
   },
   "outputs": [
    {
     "name": "stdout",
     "output_type": "stream",
     "text": [
      "228825\n",
      "228847\n",
      "234112\n"
     ]
    }
   ],
   "source": [
    "print(len(final_corrupt))\n",
    "pp= numpy.zeros(22, dtype= int)\n",
    "final_corrupt2= numpy.append(final_corrupt, pp)\n",
    "print(len(final_corrupt2))\n",
    "while(len(final_corrupt2)!=234112):\n",
    "  final_corrupt2 = numpy.append(final_corrupt2,0)\n",
    "len_final_corrupt = print(len(final_corrupt2))"
   ]
  },
  {
   "cell_type": "code",
   "execution_count": 32,
   "metadata": {
    "colab": {
     "base_uri": "https://localhost:8080/",
     "height": 286
    },
    "id": "oPNip0d02MuK",
    "outputId": "692dca43-8ddc-4485-80a3-1d56f4bfa2d1"
   },
   "outputs": [
    {
     "data": {
      "text/plain": [
       "<matplotlib.image.AxesImage at 0x1367f848e48>"
      ]
     },
     "execution_count": 32,
     "metadata": {},
     "output_type": "execute_result"
    },
    {
     "data": {
      "image/png": "[encoded data removed]",
      "text/plain": [
       "<Figure size 432x288 with 1 Axes>"
      ]
     },
     "metadata": {
      "needs_background": "light"
     },
     "output_type": "display_data"
    }
   ],
   "source": [
    "############## PRINT ENCODED IMAGE ###################################\n",
    "#Length of byte array not multiple of 3 (in case of png 4), thus\n",
    "# cannot divide array in 3 parts.\n",
    "flatNumpyArray = numpy.array(final_corrupt2)\n",
    "bgrImage2 = flatNumpyArray.reshape(236,248, 4)\n",
    "cv2.imwrite('corrupted_image.png', bgrImage2)\n",
    "imshow(Image.open('corrupted_image.png'))"
   ]
  },
  {
   "cell_type": "code",
   "execution_count": 33,
   "metadata": {
    "colab": {
     "base_uri": "https://localhost:8080/"
    },
    "id": "y4ac1ICQQ9ce",
    "outputId": "03415ed9-2501-4b87-941d-167c193e5db6"
   },
   "outputs": [
    {
     "name": "stdout",
     "output_type": "stream",
     "text": [
      "354ca930b0a0070a73378cb71e298458\n"
     ]
    }
   ],
   "source": [
    "a = asarray(bgrImage) #image data converted into a 3-D array\n",
    "temp = bytearray(a)#3-d array converted into a byte array\n",
    "recoveredh=hashlib.md5(temp)\n",
    "print (recoveredh.hexdigest())"
   ]
  },
  {
   "cell_type": "code",
   "execution_count": 34,
   "metadata": {
    "colab": {
     "base_uri": "https://localhost:8080/"
    },
    "id": "IEDL7oFXQ9fW",
    "outputId": "b739e1ac-4409-4ed7-d7cd-66562833c43e"
   },
   "outputs": [
    {
     "name": "stdout",
     "output_type": "stream",
     "text": [
      "Signature valid: True\n"
     ]
    }
   ],
   "source": [
    "# RSA verify signature\n",
    "\n",
    "#the decripted message we recive from pipeline and its hash\n",
    "\n",
    "# msg = b'354ca930b0a0070a73378cb71e298458'\n",
    "# hash = int.from_bytes(sha256(msg).digest(), byteorder='big')\n",
    "\n",
    "hash= 0x354ca930b0a0070a73378cb71e298458 # This is recoveredh with 0x\n",
    "\n",
    "#signature pow public key\n",
    "hashFromSignature = pow(recoveredSignature, keyPair.e, keyPair.n)\n",
    "print(\"Signature valid:\", hash == hashFromSignature)"
   ]
  },
  {
   "cell_type": "code",
   "execution_count": 35,
   "metadata": {
    "colab": {
     "base_uri": "https://localhost:8080/"
    },
    "id": "hASbwG8V4Ia8",
    "outputId": "c8360f70-31fe-4ddd-d99d-615453503c1f"
   },
   "outputs": [
    {
     "name": "stdout",
     "output_type": "stream",
     "text": [
      "time_key_generation 3.9443962574005127\n",
      "time_enc_bch 10.805553436279297\n",
      "time_dec_bch 4.242396354675293\n",
      "time_compare_hash 4.747894525527954\n"
     ]
    }
   ],
   "source": [
    "print(\"time_key_generation\",time_key_generation)\n",
    "print(\"time_enc_bch\",time_enc_bch)\n",
    "print(\"time_dec_bch\",time_dec_bch)\n",
    "print(\"time_compare_hash\",time_compare_hash)"
   ]
  },
  {
   "cell_type": "code",
   "execution_count": 36,
   "metadata": {
    "id": "3GdcXe8Vh0vY"
   },
   "outputs": [],
   "source": [
    "import numpy as np\n",
    "image = Image.open('corrupted_image.png')\n",
    "new_image = image.resize((225, 225))\n",
    "new_image.save('corrupted_image.png')"
   ]
  },
  {
   "cell_type": "code",
   "execution_count": 37,
   "metadata": {
    "colab": {
     "base_uri": "https://localhost:8080/",
     "height": 666
    },
    "id": "wiEaxkDIhmFZ",
    "outputId": "5b91102c-985c-4e77-ccfb-1f5674d6232b"
   },
   "outputs": [
    {
     "data": {
      "image/png": "[encoded data removed]",
      "text/plain": [
       "<Figure size 432x288 with 1 Axes>"
      ]
     },
     "metadata": {
      "needs_background": "light"
     },
     "output_type": "display_data"
    },
    {
     "data": {
      "image/png": "[encoded data removed]",
      "text/plain": [
       "<Figure size 1008x432 with 1 Axes>"
      ]
     },
     "metadata": {
      "needs_background": "light"
     },
     "output_type": "display_data"
    }
   ],
   "source": [
    "image = \"1\"\n",
    "ext = \".png\"\n",
    "img = cv2.imread(image + ext,1) \n",
    "pil_im = imageio.imread(image + ext)\n",
    "imshow(np.asarray(pil_im))\n",
    "\n",
    "plt.figure(figsize=(14,6))\n",
    "histogram_blue = cv2.calcHist([img],[0],None,[256],[0,256])\n",
    "plt.plot(histogram_blue, color='blue') \n",
    "histogram_green = cv2.calcHist([img],[1],None,[256],[0,256]) \n",
    "plt.plot(histogram_green, color='green') \n",
    "histogram_red = cv2.calcHist([img],[2],None,[256],[0,256]) \n",
    "plt.plot(histogram_red, color='red')\n",
    "plt.title('Intensity Histogram - Original Image - Digital Signature', fontsize=20)\n",
    "plt.xlabel('pixel values', fontsize=16)\n",
    "plt.ylabel('pixel count', fontsize=16) \n",
    "plt.show()"
   ]
  },
  {
   "cell_type": "code",
   "execution_count": 38,
   "metadata": {
    "colab": {
     "base_uri": "https://localhost:8080/",
     "height": 666
    },
    "id": "AQSZOk93hmKQ",
    "outputId": "92debc6e-6476-4f75-ec66-f5ed369582fd"
   },
   "outputs": [
    {
     "data": {
      "image/png": "[encoded data removed]",
      "text/plain": [
       "<Figure size 432x288 with 1 Axes>"
      ]
     },
     "metadata": {
      "needs_background": "light"
     },
     "output_type": "display_data"
    },
    {
     "data": {
      "image/png": "[encoded data removed]",
      "text/plain": [
       "<Figure size 1008x432 with 1 Axes>"
      ]
     },
     "metadata": {
      "needs_background": "light"
     },
     "output_type": "display_data"
    }
   ],
   "source": [
    "image = \"corrupted_image\"\n",
    "ext = \".png\"\n",
    "img = cv2.imread(image + ext,1) \n",
    "pil_im = imageio.imread(image + ext)\n",
    "imshow(np.asarray(pil_im))\n",
    "\n",
    "plt.figure(figsize=(14,6))\n",
    "histogram_blue = cv2.calcHist([img],[0],None,[256],[0,256])\n",
    "plt.plot(histogram_blue, color='blue') \n",
    "histogram_green = cv2.calcHist([img],[1],None,[256],[0,256]) \n",
    "plt.plot(histogram_green, color='green') \n",
    "histogram_red = cv2.calcHist([img],[2],None,[256],[0,256]) \n",
    "plt.plot(histogram_red, color='red')\n",
    "plt.title('Intensity Histogram - Encrypted Image -  Digital Signature', fontsize=20)\n",
    "plt.xlabel('pixel values', fontsize=16)\n",
    "plt.ylabel('pixel count', fontsize=16) \n",
    "plt.show()"
   ]
  },
  {
   "cell_type": "code",
   "execution_count": 39,
   "metadata": {
    "id": "HqUUxjcNM8MV"
   },
   "outputs": [],
   "source": [
    "def getImageMatrix_gray(imageName):\n",
    "    im = Image.open(imageName).convert('LA')\n",
    "    pix = im.load()\n",
    "    image_size = im.size \n",
    "    image_matrix = []\n",
    "    for width in range(int(image_size[0])):\n",
    "        row = []\n",
    "        for height in range(int(image_size[1])):\n",
    "                row.append((pix[width,height]))\n",
    "        image_matrix.append(row)\n",
    "    return image_matrix,image_size[0]"
   ]
  },
  {
   "cell_type": "code",
   "execution_count": 41,
   "metadata": {
    "colab": {
     "base_uri": "https://localhost:8080/",
     "height": 521
    },
    "id": "EuLcxkLhM8PK",
    "outputId": "979cfa8b-45a5-4c35-9ec2-54c4a8cd01c0"
   },
   "outputs": [
    {
     "name": "stdout",
     "output_type": "stream",
     "text": [
      "225\n"
     ]
    },
    {
     "data": {
      "image/png": "[encoded data removed]",
      "text/plain": [
       "<Figure size 720x576 with 1 Axes>"
      ]
     },
     "metadata": {
      "needs_background": "light"
     },
     "output_type": "display_data"
    }
   ],
   "source": [
    "image = \"1\"\n",
    "ext = \".png\"\n",
    "ImageMatrix,image_size = getImageMatrix_gray(image+ext)\n",
    "samples_x = []\n",
    "samples_y = []\n",
    "print(image_size)\n",
    "for i in range(1024):\n",
    "  x = random.randint(0,image_size-2)\n",
    "  y = random.randint(0,image_size-1)\n",
    "  samples_x.append(ImageMatrix[x][y])\n",
    "  samples_y.append(ImageMatrix[x+1][y])\n",
    "plt.figure(figsize=(10,8))\n",
    "plt.scatter(samples_x,samples_y,s=2)\n",
    "plt.title('Adjacent Pixel Autocorrelation - Digital signature Encryption on Image', fontsize=20)\n",
    "plt.show()"
   ]
  },
  {
   "cell_type": "code",
   "execution_count": null,
   "metadata": {
    "id": "sOyHsg39p-OC"
   },
   "outputs": [],
   "source": []
  },
  {
   "cell_type": "code",
   "execution_count": 42,
   "metadata": {
    "colab": {
     "base_uri": "https://localhost:8080/",
     "height": 521
    },
    "id": "CByB_7e-M8i8",
    "outputId": "200d500a-6357-408f-93ae-4b3ab19dc193"
   },
   "outputs": [
    {
     "name": "stdout",
     "output_type": "stream",
     "text": [
      "225\n"
     ]
    },
    {
     "data": {
      "image/png": "[encoded data removed]",
      "text/plain": [
       "<Figure size 720x576 with 1 Axes>"
      ]
     },
     "metadata": {
      "needs_background": "light"
     },
     "output_type": "display_data"
    }
   ],
   "source": [
    "image = \"corrupted_image\"\n",
    "ext = \".png\"\n",
    "ImageMatrix,image_size = getImageMatrix_gray(image+ext)\n",
    "samples_x = []\n",
    "samples_y = []\n",
    "print(image_size)\n",
    "for i in range(1024):\n",
    "  x = random.randint(0,image_size-2)\n",
    "  y = random.randint(0,image_size-1)\n",
    "  samples_x.append(ImageMatrix[x][y])\n",
    "  samples_y.append(ImageMatrix[x+1][y])\n",
    "plt.figure(figsize=(10,8))\n",
    "plt.scatter(samples_x,samples_y,s=2)\n",
    "plt.title('Adjacent Pixel Autocorrelation - Digital Signature Encryption on Image', fontsize=20)\n",
    "plt.show()"
   ]
  },
  {
   "cell_type": "code",
   "execution_count": null,
   "metadata": {},
   "outputs": [],
   "source": []
  }
 ],
 "metadata": {
  "colab": {
   "collapsed_sections": [],
   "name": "DigitalSignature-2103.ipynb",
   "provenance": []
  },
  "kernelspec": {
   "display_name": "Python 3",
   "language": "python",
   "name": "python3"
  },
  "language_info": {
   "codemirror_mode": {
    "name": "ipython",
    "version": 3
   },
   "file_extension": ".py",
   "mimetype": "text/x-python",
   "name": "python",
   "nbconvert_exporter": "python",
   "pygments_lexer": "ipython3",
   "version": "3.7.9"
  }
 },
 "nbformat": 4,
 "nbformat_minor": 1
}
